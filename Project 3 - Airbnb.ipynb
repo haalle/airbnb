{
 "cells": [
  {
   "cell_type": "markdown",
   "metadata": {},
   "source": [
    "# Project 3: Airbnb\n",
    "**This is the third of three mandatory projects to be handed in as part of the assessment for the course 02807 Computational Tools for Data Science at Technical University of Denmark, autumn 2019.**\n",
    "\n",
    "#### Practical info\n",
    "- **The project is to be done in groups of at most 3 students**\n",
    "- **Each group has to hand in _one_ Jupyter notebook (this notebook) with their solution**\n",
    "- **The hand-in of the notebook is due 2019-12-05, 23:59 on DTU Inside**\n",
    "\n",
    "#### Your solution\n",
    "- **Your solution should be in Python/PySpark**\n",
    "- **For each question you may use as many cells for your solution as you like**\n",
    "- **You should not remove the problem statements**\n",
    "- **Your notebook should be runnable, i.e., clicking [>>] in Jupyter should generate the result that you want to be assessed**\n",
    "- **You are not expected to use machine learning to solve any of the exercises**"
   ]
  },
  {
   "cell_type": "markdown",
   "metadata": {},
   "source": [
    "# Introduction\n",
    "[Airbnb](http://airbnb.com) is an online marketplace for arranging or offering lodgings. In this project you will use Spark to analyze data obtained from the Airbnb website. The purpose of the analysis is to extract information about trends and patterns from the data.\n",
    "\n",
    "The project has two parts.\n",
    "\n",
    "### Part 1: Loading, describing and preparing the data\n",
    "There's quite a lot of data. Make sure that you can load and correctly parse the data, and that you understand what the dataset contains. You should also prepare the data for the analysis in part two. This means cleaning it and staging it so that subsequent queries are fast.\n",
    "\n",
    "### Par 2: Analysis\n",
    "In this part your goal is to learn about trends and usage patterns from the data. You should give solutions to the tasks defined in this notebook, and you should use Spark to do the data processing. You may use other libraries like for instance Pandas and matplotlib for visualisation.\n",
    "\n",
    "## Guidelines\n",
    "- Processing data should be done using Spark. Once data has been reduced to aggregate form, you may use collect to extract it into Python for visualisation.\n",
    "- Your solutions will be evaluated by correctness, code quality and interpretability of the output. This means that you have to write clean and efficient Spark code that will generate sensible execution plans, and that the tables and visualisations that you produce are meaningful and easy to read.\n",
    "- You may add more cells for your solutions, but you should not modify the notebook otherwise."
   ]
  },
  {
   "cell_type": "markdown",
   "metadata": {},
   "source": [
    "### Create Spark session and define imports"
   ]
  },
  {
   "cell_type": "code",
   "execution_count": 1,
   "metadata": {},
   "outputs": [],
   "source": [
    "from pyspark.sql import *\n",
    "from pyspark.sql import functions as f\n",
    "from pyspark.sql.types import *\n",
    "import pandas as pd\n",
    "import matplotlib.pyplot as plt\n",
    "import math\n",
    "import string\n",
    "\n",
    "spark = SparkSession.builder.appName(\"SparkIntro\").getOrCreate()"
   ]
  },
  {
   "cell_type": "markdown",
   "metadata": {},
   "source": [
    "# Part 1: Loading, describing and preparing the data\n",
    "The data comes in two files. Start by downloading the files and putting them in your `data/` folder.\n",
    "\n",
    "- [Listings](https://files.dtu.dk/u/siPzAasj8w2gI_ME/listings.csv?l) (5 GB)\n",
    "- [Reviews](https://files.dtu.dk/u/k3oaPYp6GjKBeho4/reviews.csv?l) (9.5 GB)"
   ]
  },
  {
   "cell_type": "markdown",
   "metadata": {},
   "source": [
    "### Load the data\n",
    "The data has multiline rows (rows that span multiple lines in the file). To correctly parse these you should use the `multiline` option and set the `escape` character to be `\"`."
   ]
  },
  {
   "cell_type": "code",
   "execution_count": 2,
   "metadata": {},
   "outputs": [],
   "source": [
    "df = spark.read.option('header', True).option('inferSchema', True).option('delimiter', ',')\\\n",
    "    .option('multiline', True).option(\"escape\", \"\\\"\").csv('data/listings.csv')"
   ]
  },
  {
   "cell_type": "markdown",
   "metadata": {},
   "source": [
    "### Describe the data\n",
    "List the features (schema) and sizes of the datasets."
   ]
  },
  {
   "cell_type": "code",
   "execution_count": 3,
   "metadata": {},
   "outputs": [
    {
     "name": "stdout",
     "output_type": "stream",
     "text": [
      "root\n",
      " |-- id: string (nullable = true)\n",
      " |-- listing_url: string (nullable = true)\n",
      " |-- scrape_id: string (nullable = true)\n",
      " |-- last_scraped: string (nullable = true)\n",
      " |-- name: string (nullable = true)\n",
      " |-- summary: string (nullable = true)\n",
      " |-- space: string (nullable = true)\n",
      " |-- description: string (nullable = true)\n",
      " |-- experiences_offered: string (nullable = true)\n",
      " |-- neighborhood_overview: string (nullable = true)\n",
      " |-- notes: string (nullable = true)\n",
      " |-- transit: string (nullable = true)\n",
      " |-- access: string (nullable = true)\n",
      " |-- interaction: string (nullable = true)\n",
      " |-- house_rules: string (nullable = true)\n",
      " |-- thumbnail_url: string (nullable = true)\n",
      " |-- medium_url: string (nullable = true)\n",
      " |-- picture_url: string (nullable = true)\n",
      " |-- xl_picture_url: string (nullable = true)\n",
      " |-- host_id: string (nullable = true)\n",
      " |-- host_url: string (nullable = true)\n",
      " |-- host_name: string (nullable = true)\n",
      " |-- host_since: string (nullable = true)\n",
      " |-- host_location: string (nullable = true)\n",
      " |-- host_about: string (nullable = true)\n",
      " |-- host_response_time: string (nullable = true)\n",
      " |-- host_response_rate: string (nullable = true)\n",
      " |-- host_acceptance_rate: string (nullable = true)\n",
      " |-- host_is_superhost: string (nullable = true)\n",
      " |-- host_thumbnail_url: string (nullable = true)\n",
      " |-- host_picture_url: string (nullable = true)\n",
      " |-- host_neighbourhood: string (nullable = true)\n",
      " |-- host_listings_count: string (nullable = true)\n",
      " |-- host_total_listings_count: string (nullable = true)\n",
      " |-- host_verifications: string (nullable = true)\n",
      " |-- host_has_profile_pic: string (nullable = true)\n",
      " |-- host_identity_verified: string (nullable = true)\n",
      " |-- street: string (nullable = true)\n",
      " |-- neighbourhood: string (nullable = true)\n",
      " |-- neighbourhood_cleansed: string (nullable = true)\n",
      " |-- neighbourhood_group_cleansed: string (nullable = true)\n",
      " |-- city: string (nullable = true)\n",
      " |-- state: string (nullable = true)\n",
      " |-- zipcode: string (nullable = true)\n",
      " |-- market: string (nullable = true)\n",
      " |-- smart_location: string (nullable = true)\n",
      " |-- country_code: string (nullable = true)\n",
      " |-- country: string (nullable = true)\n",
      " |-- latitude: string (nullable = true)\n",
      " |-- longitude: string (nullable = true)\n",
      " |-- is_location_exact: string (nullable = true)\n",
      " |-- property_type: string (nullable = true)\n",
      " |-- room_type: string (nullable = true)\n",
      " |-- accommodates: string (nullable = true)\n",
      " |-- bathrooms: string (nullable = true)\n",
      " |-- bedrooms: string (nullable = true)\n",
      " |-- beds: string (nullable = true)\n",
      " |-- bed_type: string (nullable = true)\n",
      " |-- amenities: string (nullable = true)\n",
      " |-- square_feet: string (nullable = true)\n",
      " |-- price: string (nullable = true)\n",
      " |-- weekly_price: string (nullable = true)\n",
      " |-- monthly_price: string (nullable = true)\n",
      " |-- security_deposit: string (nullable = true)\n",
      " |-- cleaning_fee: string (nullable = true)\n",
      " |-- guests_included: string (nullable = true)\n",
      " |-- extra_people: string (nullable = true)\n",
      " |-- minimum_nights: string (nullable = true)\n",
      " |-- maximum_nights: string (nullable = true)\n",
      " |-- minimum_minimum_nights: string (nullable = true)\n",
      " |-- maximum_minimum_nights: string (nullable = true)\n",
      " |-- minimum_maximum_nights: string (nullable = true)\n",
      " |-- maximum_maximum_nights: string (nullable = true)\n",
      " |-- minimum_nights_avg_ntm: string (nullable = true)\n",
      " |-- maximum_nights_avg_ntm: string (nullable = true)\n",
      " |-- calendar_updated: string (nullable = true)\n",
      " |-- has_availability: string (nullable = true)\n",
      " |-- availability_30: string (nullable = true)\n",
      " |-- availability_60: string (nullable = true)\n",
      " |-- availability_90: string (nullable = true)\n",
      " |-- availability_365: string (nullable = true)\n",
      " |-- calendar_last_scraped: string (nullable = true)\n",
      " |-- number_of_reviews: string (nullable = true)\n",
      " |-- number_of_reviews_ltm: string (nullable = true)\n",
      " |-- first_review: string (nullable = true)\n",
      " |-- last_review: string (nullable = true)\n",
      " |-- review_scores_rating: string (nullable = true)\n",
      " |-- review_scores_accuracy: string (nullable = true)\n",
      " |-- review_scores_cleanliness: string (nullable = true)\n",
      " |-- review_scores_checkin: string (nullable = true)\n",
      " |-- review_scores_communication: string (nullable = true)\n",
      " |-- review_scores_location: string (nullable = true)\n",
      " |-- review_scores_value: string (nullable = true)\n",
      " |-- requires_license: string (nullable = true)\n",
      " |-- license: string (nullable = true)\n",
      " |-- jurisdiction_names: string (nullable = true)\n",
      " |-- instant_bookable: string (nullable = true)\n",
      " |-- is_business_travel_ready: string (nullable = true)\n",
      " |-- cancellation_policy: string (nullable = true)\n",
      " |-- require_guest_profile_picture: string (nullable = true)\n",
      " |-- require_guest_phone_verification: string (nullable = true)\n",
      " |-- calculated_host_listings_count: string (nullable = true)\n",
      " |-- calculated_host_listings_count_entire_homes: string (nullable = true)\n",
      " |-- calculated_host_listings_count_private_rooms: string (nullable = true)\n",
      " |-- calculated_host_listings_count_shared_rooms: string (nullable = true)\n",
      " |-- reviews_per_month: string (nullable = true)\n",
      "\n"
     ]
    }
   ],
   "source": [
    "df.printSchema()"
   ]
  },
  {
   "cell_type": "code",
   "execution_count": 4,
   "metadata": {},
   "outputs": [
    {
     "data": {
      "text/plain": [
       "1330480"
      ]
     },
     "execution_count": 4,
     "metadata": {},
     "output_type": "execute_result"
    }
   ],
   "source": [
    "df.count()"
   ]
  },
  {
   "cell_type": "code",
   "execution_count": 5,
   "metadata": {},
   "outputs": [
    {
     "name": "stdout",
     "output_type": "stream",
     "text": [
      "+------+--------------------+--------------+------------+--------------------+--------------------+--------------------+--------------------+-------------------+---------------------+--------------------+--------------------+--------------------+--------------------+--------------------+-------------+----------+--------------------+--------------+-------+--------------------+---------+----------+--------------------+--------------------+------------------+------------------+--------------------+-----------------+--------------------+--------------------+------------------+-------------------+-------------------------+--------------------+--------------------+----------------------+--------------------+-------------+----------------------+----------------------------+---------+----------------+-------+---------+-----------------+------------+-------+--------+---------+-----------------+-------------+---------------+------------+---------+--------+----+--------+--------------------+-----------+---------+------------+-------------+----------------+------------+---------------+------------+--------------+--------------+----------------------+----------------------+----------------------+----------------------+----------------------+----------------------+----------------+----------------+---------------+---------------+---------------+----------------+---------------------+-----------------+---------------------+------------+-----------+--------------------+----------------------+-------------------------+---------------------+---------------------------+----------------------+-------------------+----------------+-------+------------------+----------------+------------------------+--------------------+-----------------------------+--------------------------------+------------------------------+-------------------------------------------+--------------------------------------------+-------------------------------------------+-----------------+\n",
      "|    id|         listing_url|     scrape_id|last_scraped|                name|             summary|               space|         description|experiences_offered|neighborhood_overview|               notes|             transit|              access|         interaction|         house_rules|thumbnail_url|medium_url|         picture_url|xl_picture_url|host_id|            host_url|host_name|host_since|       host_location|          host_about|host_response_time|host_response_rate|host_acceptance_rate|host_is_superhost|  host_thumbnail_url|    host_picture_url|host_neighbourhood|host_listings_count|host_total_listings_count|  host_verifications|host_has_profile_pic|host_identity_verified|              street|neighbourhood|neighbourhood_cleansed|neighbourhood_group_cleansed|     city|           state|zipcode|   market|   smart_location|country_code|country|latitude|longitude|is_location_exact|property_type|      room_type|accommodates|bathrooms|bedrooms|beds|bed_type|           amenities|square_feet|    price|weekly_price|monthly_price|security_deposit|cleaning_fee|guests_included|extra_people|minimum_nights|maximum_nights|minimum_minimum_nights|maximum_minimum_nights|minimum_maximum_nights|maximum_maximum_nights|minimum_nights_avg_ntm|maximum_nights_avg_ntm|calendar_updated|has_availability|availability_30|availability_60|availability_90|availability_365|calendar_last_scraped|number_of_reviews|number_of_reviews_ltm|first_review|last_review|review_scores_rating|review_scores_accuracy|review_scores_cleanliness|review_scores_checkin|review_scores_communication|review_scores_location|review_scores_value|requires_license|license|jurisdiction_names|instant_bookable|is_business_travel_ready| cancellation_policy|require_guest_profile_picture|require_guest_phone_verification|calculated_host_listings_count|calculated_host_listings_count_entire_homes|calculated_host_listings_count_private_rooms|calculated_host_listings_count_shared_rooms|reviews_per_month|\n",
      "+------+--------------------+--------------+------------+--------------------+--------------------+--------------------+--------------------+-------------------+---------------------+--------------------+--------------------+--------------------+--------------------+--------------------+-------------+----------+--------------------+--------------+-------+--------------------+---------+----------+--------------------+--------------------+------------------+------------------+--------------------+-----------------+--------------------+--------------------+------------------+-------------------+-------------------------+--------------------+--------------------+----------------------+--------------------+-------------+----------------------+----------------------------+---------+----------------+-------+---------+-----------------+------------+-------+--------+---------+-----------------+-------------+---------------+------------+---------+--------+----+--------+--------------------+-----------+---------+------------+-------------+----------------+------------+---------------+------------+--------------+--------------+----------------------+----------------------+----------------------+----------------------+----------------------+----------------------+----------------+----------------+---------------+---------------+---------------+----------------+---------------------+-----------------+---------------------+------------+-----------+--------------------+----------------------+-------------------------+---------------------+---------------------------+----------------------+-------------------+----------------+-------+------------------+----------------+------------------------+--------------------+-----------------------------+--------------------------------+------------------------------+-------------------------------------------+--------------------------------------------+-------------------------------------------+-----------------+\n",
      "|145320|https://www.airbn...|20190928160308|  2019-09-28|In the middle of ...|Mitt boende passa...|A cozy three room...|Mitt boende passa...|               none| The flat is in th...|                null|My flat is close ...|You can stay in e...|Just ask me every...|No smoking inside...|         null|      null|https://a0.muscac...|          null| 703851|https://www.airbn...|      Kim|2011-06-15|Stockholm, Stockh...|Hi, I'm Kim, a de...|               N/A|               N/A|                 N/A|                t|https://a0.muscac...|https://a0.muscac...|              null|                  1|                        1|['email', 'phone'...|                   t|                     t|Stockholm, Stockh...|    Södermalm|            Södermalms|                        null|Stockholm|  Stockholms län| 118 53|Stockholm|Stockholm, Sweden|          SE| Sweden|59.31364| 18.05256|                f|    Apartment|   Private room|           2|      1.0|       1|   2|Real Bed|{TV,\"Cable TV\",Wi...|       null|$1,272.00|        null|         null|            null|     $417.00|              2|       $0.00|             2|          1125|                     2|                     2|                  1125|                  1125|                   2.0|                1125.0|    3 months ago|               t|              0|              0|             26|              26|           2019-09-28|               72|                   27|  2017-05-30| 2019-06-25|                  97|                    10|                       10|                   10|                         10|                    10|                 10|               f|   null|              null|               t|                       f|strict_14_with_gr...|                            f|                               f|                             1|                                          0|                                           1|                                          0|             2.54|\n",
      "|155220|https://www.airbn...|20190928160308|  2019-09-28|Stockholm, new sp...|Convenient and sp...|ABOUT THE HOUSE: ...|ABOUT THE HOUSE: ...|               none| Close to nature a...|Bikes to borrow a...|Yes regular busse...|Everything in the...|I will make you f...|          No smoking|         null|      null|https://a0.muscac...|          null| 746396|https://www.airbn...|Madeleine|2011-06-26|Stockholm, Stockh...|I work with human...|within a few hours|               63%|                 N/A|                f|https://a0.muscac...|https://a0.muscac...|              null|                  2|                        2|['email', 'phone'...|                   t|                     f|Stockholm, Stockh...|    Skarpnäck|            Skarpnäcks|                        null|Stockholm|Stockholm County|   null|Stockholm|Stockholm, Sweden|          SE| Sweden|59.24667| 18.17799|                f|        House|Entire home/apt|           3|      1.0|       2|   3|Real Bed|{TV,\"Cable TV\",In...|          0|$1,203.00|   $4,000.00|   $15,000.00|       $3,000.00|   $1,000.00|              3|     $500.00|             3|           730|                     3|                     3|                   730|                   730|                   3.0|                 730.0|    8 months ago|               t|              0|              0|              0|               0|           2019-09-28|                0|                    0|        null|       null|                null|                  null|                     null|                 null|                       null|                  null|               null|               f|   null|              null|               f|                       f|            moderate|                            f|                               f|                             2|                                          2|                                           0|                                          0|             null|\n",
      "+------+--------------------+--------------+------------+--------------------+--------------------+--------------------+--------------------+-------------------+---------------------+--------------------+--------------------+--------------------+--------------------+--------------------+-------------+----------+--------------------+--------------+-------+--------------------+---------+----------+--------------------+--------------------+------------------+------------------+--------------------+-----------------+--------------------+--------------------+------------------+-------------------+-------------------------+--------------------+--------------------+----------------------+--------------------+-------------+----------------------+----------------------------+---------+----------------+-------+---------+-----------------+------------+-------+--------+---------+-----------------+-------------+---------------+------------+---------+--------+----+--------+--------------------+-----------+---------+------------+-------------+----------------+------------+---------------+------------+--------------+--------------+----------------------+----------------------+----------------------+----------------------+----------------------+----------------------+----------------+----------------+---------------+---------------+---------------+----------------+---------------------+-----------------+---------------------+------------+-----------+--------------------+----------------------+-------------------------+---------------------+---------------------------+----------------------+-------------------+----------------+-------+------------------+----------------+------------------------+--------------------+-----------------------------+--------------------------------+------------------------------+-------------------------------------------+--------------------------------------------+-------------------------------------------+-----------------+\n",
      "only showing top 2 rows\n",
      "\n"
     ]
    }
   ],
   "source": [
    "df.show(2)"
   ]
  },
  {
   "cell_type": "code",
   "execution_count": 6,
   "metadata": {},
   "outputs": [
    {
     "name": "stdout",
     "output_type": "stream",
     "text": [
      "+--------------------+\n",
      "|           amenities|\n",
      "+--------------------+\n",
      "|{TV,\"Cable TV\",Wi...|\n",
      "|{TV,\"Cable TV\",In...|\n",
      "|{TV,Wifi,Kitchen,...|\n",
      "+--------------------+\n",
      "only showing top 3 rows\n",
      "\n"
     ]
    }
   ],
   "source": [
    "df.select('amenities').show(3)"
   ]
  },
  {
   "cell_type": "markdown",
   "metadata": {},
   "source": [
    "**This dataset contains a lot of information, i.e. there are many variables. Some variables are lists as the one shown above, and therefore it is necessary to read the file with the \"multiline\"-option enabled.**"
   ]
  },
  {
   "cell_type": "markdown",
   "metadata": {},
   "source": [
    "### Prepare the data for analysis\n",
    "You should prepare two dataframes to be used in the analysis part of the project. You should not be concerned with cleaning the data. There's a lot of it, so it will be sufficient to drop rows that have bad values. You may want to go back and refine this step at a later point when doing the analysis.\n",
    "\n",
    "You may also want to consider if you can stage your data so that subsequent processing is more efficient (this is not strictly necessary for Spark to run, but you may be able to decrease the time you sit around waiting for Spark to finish things)"
   ]
  },
  {
   "cell_type": "markdown",
   "metadata": {},
   "source": [
    "**First, I want to reduce the data. There is a lot of variables, and not all are going to be used in the analysis. I have considered two ways of cleaning the data. The first would be to get rid of the columns with a lot of text, since these will take up a lot of space and make writing/reading to/from disk slow. However, in this particular setting it is possible to get an overwiev of which parameters are needed by considering all the questions in the project, and therefore I will drop everything but the columns I need.**"
   ]
  },
  {
   "cell_type": "markdown",
   "metadata": {},
   "source": [
    "**Furthermore, I want to cast the variables as the correct types, and the price should be without the $-character.**"
   ]
  },
  {
   "cell_type": "code",
   "execution_count": 7,
   "metadata": {},
   "outputs": [],
   "source": [
    "#    .filter(f.col('id').isNotNull())\\\n",
    "#    .filter(f.col('city').isNotNull())\\\n",
    "#    .filter(f.col('neighbourhood').isNotNull())\\\n",
    "#    .filter(f.col('property_type').isNotNull())\\\n",
    "#    .filter(f.col('price').isNotNull())\\\n",
    "#    .filter(f.col('review_scores_rating').isNotNull())\\"
   ]
  },
  {
   "cell_type": "markdown",
   "metadata": {},
   "source": [
    "**I want to filter out null values at a later stage, since not all columns are used for all queries later on.**"
   ]
  },
  {
   "cell_type": "code",
   "execution_count": 8,
   "metadata": {},
   "outputs": [],
   "source": [
    "df.select('id','city','neighbourhood','property_type', 'price', 'review_scores_rating')\\\n",
    "    .withColumn('id_int', f.col('id').cast('int')).drop('id')\\\n",
    "    .withColumn('id', f.col('id_int')).drop('id_int')\\\n",
    "    .withColumn('price_flt', f.regexp_replace('price', '\\$', '').cast('float')).drop('price')\\\n",
    "    .withColumn('price', f.col('price_flt')).drop('price_flt')\\\n",
    "    .withColumn('review_scores_rating_flt', f.col('review_scores_rating').cast('float')).drop('review_scores_rating')\\\n",
    "    .withColumn('review_scores_rating', f.col('review_scores_rating_flt')).drop('review_scores_rating_flt')\\\n",
    "    .write.mode('overwrite')\\\n",
    "    .option('header', True)\\\n",
    "    .option('multiline', True)\\\n",
    "    .option(\"escape\", \"\\\"\")\\\n",
    "    .csv('data/df_prep.csv', emptyValue='')"
   ]
  },
  {
   "cell_type": "code",
   "execution_count": 9,
   "metadata": {},
   "outputs": [],
   "source": [
    "df_prep = spark.read\\\n",
    "    .option('header', True)\\\n",
    "    .option('inferSchema', True)\\\n",
    "    .option('delimiter', ',')\\\n",
    "    .option('multiline', True)\\\n",
    "    .option(\"escape\", \"\\\"\")\\\n",
    "    .csv('data/df_prep.csv')"
   ]
  },
  {
   "cell_type": "markdown",
   "metadata": {},
   "source": [
    "**I have skipped all columns that conained multilines, but I have kept the multiline option, so that if I want to include those columns at a later time, I won't forget to swich it on.**"
   ]
  },
  {
   "cell_type": "markdown",
   "metadata": {},
   "source": [
    "**The datafile is now only 60MB, in stead of 5 GB.**"
   ]
  },
  {
   "cell_type": "code",
   "execution_count": 10,
   "metadata": {},
   "outputs": [
    {
     "name": "stdout",
     "output_type": "stream",
     "text": [
      "root\n",
      " |-- city: string (nullable = true)\n",
      " |-- neighbourhood: string (nullable = true)\n",
      " |-- property_type: string (nullable = true)\n",
      " |-- id: integer (nullable = true)\n",
      " |-- price: double (nullable = true)\n",
      " |-- review_scores_rating: double (nullable = true)\n",
      "\n"
     ]
    }
   ],
   "source": [
    "df_prep.printSchema()"
   ]
  },
  {
   "cell_type": "code",
   "execution_count": 11,
   "metadata": {},
   "outputs": [
    {
     "data": {
      "text/plain": [
       "1330480"
      ]
     },
     "execution_count": 11,
     "metadata": {},
     "output_type": "execute_result"
    }
   ],
   "source": [
    "df_prep.count()"
   ]
  },
  {
   "cell_type": "markdown",
   "metadata": {},
   "source": [
    "# Part 2: Analysis\n",
    "Use Spark and your favorite tool for data visualization to solve the following tasks.\n",
    "\n",
    "## The basics\n",
    "Compute and show a dataframe with the number of listings and neighbourhoods per city."
   ]
  },
  {
   "cell_type": "markdown",
   "metadata": {},
   "source": [
    "**First, I want to get an overwiev of the data. I therefore compute a dataframe with al the cities and how many listings and neighbourhoods they contain.**"
   ]
  },
  {
   "cell_type": "code",
   "execution_count": 12,
   "metadata": {},
   "outputs": [],
   "source": [
    "listings_neighbourhoods = df_prep.filter(f.col('city').isNotNull())\\\n",
    "    .filter(f.col('id').isNotNull())\\\n",
    "    .filter(f.col('neighbourhood').isNotNull())\\\n",
    "    .groupBy('city')\\\n",
    "    .agg(f.countDistinct('id').alias('listings'),f.countDistinct('neighbourhood').alias('neighbourhoods'))\\\n",
    "    .orderBy(f.col('neighbourhoods'), ascending = False)"
   ]
  },
  {
   "cell_type": "code",
   "execution_count": 13,
   "metadata": {},
   "outputs": [
    {
     "name": "stdout",
     "output_type": "stream",
     "text": [
      "+--------------+--------+--------------+\n",
      "|          city|listings|neighbourhoods|\n",
      "+--------------+--------+--------------+\n",
      "|Greater London|   46523|           149|\n",
      "|        London|   33684|           148|\n",
      "|       Toronto|   21765|           140|\n",
      "|     San Diego|   12315|           109|\n",
      "|    Washington|    9063|           108|\n",
      "|      New York|   21535|           100|\n",
      "|   Los Angeles|   27800|            97|\n",
      "|        Berlin|   24282|            93|\n",
      "|Rio de Janeiro|   18552|            93|\n",
      "|      Portland|    4487|            90|\n",
      "|       Chicago|    8822|            88|\n",
      "|   Minneapolis|    2928|            88|\n",
      "|        Sydney|    1151|            82|\n",
      "|       Oakland|    3123|            81|\n",
      "|       Seattle|    9020|            80|\n",
      "|        Austin|   10438|            79|\n",
      "|        Denver|    4533|            77|\n",
      "|     Barcelona|   19894|            68|\n",
      "|        Dublin|    4018|            66|\n",
      "|        Madrid|   20660|            66|\n",
      "+--------------+--------+--------------+\n",
      "only showing top 20 rows\n",
      "\n"
     ]
    }
   ],
   "source": [
    "listings_neighbourhoods.show()"
   ]
  },
  {
   "cell_type": "markdown",
   "metadata": {},
   "source": [
    "**I choose to continue working with the city of Berlin, since it is a city with a lot of listings and a lot of neighbourhoods. Furthermore, the name does not seem to be ambiguous as for instance London is. I therfore filter out Berlin, and I want to save to disk at this stage, bacause I am going to reduce the dataset by a significant amount.**"
   ]
  },
  {
   "cell_type": "markdown",
   "metadata": {},
   "source": [
    "Based on the table above, you should choose a city that you want to continue your analysis for. The city should have mulitple neighbourhoods with listings in them.\n",
    "\n",
    "Compute and visualize the number of listings of different property types per neighbourhood in your city."
   ]
  },
  {
   "cell_type": "code",
   "execution_count": 14,
   "metadata": {},
   "outputs": [],
   "source": [
    "df_prep.filter(f.col('city') == 'Berlin')\\\n",
    "    .write.mode('overwrite')\\\n",
    "    .option('header', True)\\\n",
    "    .option('multiline', True)\\\n",
    "    .option(\"escape\", \"\\\"\")\\\n",
    "    .csv('data/Berlin.csv', emptyValue='')"
   ]
  },
  {
   "cell_type": "code",
   "execution_count": 15,
   "metadata": {},
   "outputs": [],
   "source": [
    "df_berlin = spark.read\\\n",
    "    .option('header', True)\\\n",
    "    .option('inferSchema', True)\\\n",
    "    .option('delimiter', ',')\\\n",
    "    .option('multiline', True)\\\n",
    "    .option(\"escape\", \"\\\"\")\\\n",
    "    .csv('data/Berlin.csv')"
   ]
  },
  {
   "cell_type": "markdown",
   "metadata": {},
   "source": [
    "**I now want to get an overwiev of the new reduced dataset:**"
   ]
  },
  {
   "cell_type": "code",
   "execution_count": 16,
   "metadata": {},
   "outputs": [
    {
     "data": {
      "text/plain": [
       "24283"
      ]
     },
     "execution_count": 16,
     "metadata": {},
     "output_type": "execute_result"
    }
   ],
   "source": [
    "df_berlin.count()"
   ]
  },
  {
   "cell_type": "code",
   "execution_count": 17,
   "metadata": {},
   "outputs": [
    {
     "name": "stdout",
     "output_type": "stream",
     "text": [
      "+-----+-------------+---------------+\n",
      "|   id|property_type|  neighbourhood|\n",
      "+-----+-------------+---------------+\n",
      "| 1944|    Apartment|        Wedding|\n",
      "| 2015|   Guesthouse|          Mitte|\n",
      "| 3176|    Apartment|Prenzlauer Berg|\n",
      "| 3309|    Apartment|     Schöneberg|\n",
      "| 6883|         Loft| Friedrichshain|\n",
      "| 7071|    Apartment|Prenzlauer Berg|\n",
      "| 9991|    Apartment|Prenzlauer Berg|\n",
      "|14325|    Apartment|Prenzlauer Berg|\n",
      "|16401|    Apartment| Friedrichshain|\n",
      "|16644|    Apartment|      Kreuzberg|\n",
      "|17904|    Apartment|       Neukölln|\n",
      "|20858|         Loft|Prenzlauer Berg|\n",
      "|21869|    Apartment|      Kreuzberg|\n",
      "|22415|    Apartment|      Kreuzberg|\n",
      "|22677|    Apartment|          Mitte|\n",
      "|23834|  Condominium|      Kreuzberg|\n",
      "|24569|    Apartment|Prenzlauer Berg|\n",
      "|25653|    Apartment|Prenzlauer Berg|\n",
      "|26543|    Apartment|Prenzlauer Berg|\n",
      "|28156|    Apartment|Prenzlauer Berg|\n",
      "+-----+-------------+---------------+\n",
      "only showing top 20 rows\n",
      "\n"
     ]
    }
   ],
   "source": [
    "df_berlin.select('id', 'property_type','neighbourhood').show()"
   ]
  },
  {
   "cell_type": "code",
   "execution_count": 18,
   "metadata": {},
   "outputs": [
    {
     "name": "stdout",
     "output_type": "stream",
     "text": [
      "+--------------------+--------------+\n",
      "|       neighbourhood|property_types|\n",
      "+--------------------+--------------+\n",
      "|           Adlershof|             6|\n",
      "|Alt-Hohenschönhausen|             7|\n",
      "|         Alt-Treptow|             6|\n",
      "|        Altglienicke|             4|\n",
      "|      Baumschulenweg|             5|\n",
      "|            Biesdorf|             6|\n",
      "|         Blankenburg|             4|\n",
      "|           Bohnsdorf|             3|\n",
      "|               Britz|             7|\n",
      "|                Buch|             1|\n",
      "|              Buckow|             4|\n",
      "|      Charlottenburg|            14|\n",
      "| Charlottenburg-Nord|             3|\n",
      "|              Dahlem|             4|\n",
      "|          Falkenberg|             3|\n",
      "|  Falkenhagener Feld|             2|\n",
      "|           Fennpfuhl|             3|\n",
      "|Französisch Buchholz|             6|\n",
      "|           Friedenau|             9|\n",
      "|     Friedrichsfelde|             5|\n",
      "+--------------------+--------------+\n",
      "only showing top 20 rows\n",
      "\n"
     ]
    }
   ],
   "source": [
    "df_berlin.filter(f.col('neighbourhood').isNotNull())\\\n",
    "    .filter(f.col('neighbourhood').isNotNull())\\\n",
    "    .filter(f.col('property_type').isNotNull())\\\n",
    "    .groupBy('neighbourhood')\\\n",
    "    .agg(f.countDistinct('property_type').alias('property_types'))\\\n",
    "    .orderBy('neighbourhood')\\\n",
    "    .show()"
   ]
  },
  {
   "cell_type": "markdown",
   "metadata": {},
   "source": [
    "**Now I can compute the number of listings per property type in each neigbourhood. I do not want to show all the data, since there are a lot of neighbourhoods and a lot of property types. In stead, I have chosen just to show the first four neighbourhoods. I could make a bar plot, but I think it will become to messy, so I just show the dataframe. It is seen, unsurprisingly, that in these neighbourhoods, apartments and houses are most frequent.**"
   ]
  },
  {
   "cell_type": "code",
   "execution_count": 19,
   "metadata": {},
   "outputs": [
    {
     "name": "stdout",
     "output_type": "stream",
     "text": [
      "+--------------------+------------------+--------+\n",
      "|       neighbourhood|     property_type|listings|\n",
      "+--------------------+------------------+--------+\n",
      "|                null|         Apartment|       1|\n",
      "|           Adlershof|         Apartment|      25|\n",
      "|           Adlershof|             House|       1|\n",
      "|           Adlershof|         Townhouse|       1|\n",
      "|           Adlershof|        Guesthouse|       1|\n",
      "|           Adlershof|          Bungalow|       1|\n",
      "|           Adlershof|Serviced apartment|       1|\n",
      "|Alt-Hohenschönhausen|        Guesthouse|       1|\n",
      "|Alt-Hohenschönhausen|       Condominium|       3|\n",
      "|Alt-Hohenschönhausen|              Loft|       1|\n",
      "|Alt-Hohenschönhausen|         Townhouse|       3|\n",
      "|Alt-Hohenschönhausen|             House|       9|\n",
      "|Alt-Hohenschönhausen|Serviced apartment|       1|\n",
      "|Alt-Hohenschönhausen|         Apartment|      30|\n",
      "|         Alt-Treptow|              Loft|       5|\n",
      "|         Alt-Treptow|       Condominium|       3|\n",
      "|         Alt-Treptow|             House|       3|\n",
      "|         Alt-Treptow|         Townhouse|       1|\n",
      "|         Alt-Treptow|       Guest suite|       1|\n",
      "|         Alt-Treptow|         Apartment|     164|\n",
      "|        Altglienicke|       Condominium|       1|\n",
      "|        Altglienicke|        Guesthouse|       2|\n",
      "|        Altglienicke|             House|      11|\n",
      "|        Altglienicke|         Apartment|       8|\n",
      "+--------------------+------------------+--------+\n",
      "only showing top 24 rows\n",
      "\n"
     ]
    }
   ],
   "source": [
    "listings_property_neighbourhood = df_berlin.groupBy('neighbourhood','property_type').agg(f.count('id').alias('listings')).orderBy('neighbourhood')\n",
    "listings_property_neighbourhood.show(24)"
   ]
  },
  {
   "cell_type": "markdown",
   "metadata": {},
   "source": [
    "## Prices\n",
    "Compute the minimum, maximum and average listing price in your city. "
   ]
  },
  {
   "cell_type": "markdown",
   "metadata": {},
   "source": [
    "**The average price is computed by using an aggregate function:**"
   ]
  },
  {
   "cell_type": "code",
   "execution_count": 20,
   "metadata": {},
   "outputs": [
    {
     "name": "stdout",
     "output_type": "stream",
     "text": [
      "+-------------+\n",
      "|average_price|\n",
      "+-------------+\n",
      "|        63.52|\n",
      "+-------------+\n",
      "\n"
     ]
    }
   ],
   "source": [
    "df_berlin.filter(f.col('price').isNotNull())\\\n",
    "    .agg(f.avg('price').alias('avg'))\\\n",
    "    .withColumn('average_price', f.round('avg', 2))\\\n",
    "    .drop('avg')\\\n",
    "    .select('average_price')\\\n",
    "    .show()"
   ]
  },
  {
   "cell_type": "markdown",
   "metadata": {},
   "source": [
    "**It turns out, that some prices are 0.00. This might be an error, and it might be possible to determine by looking at some of the descriptions of the partivcular listings.:**"
   ]
  },
  {
   "cell_type": "code",
   "execution_count": 21,
   "metadata": {},
   "outputs": [
    {
     "name": "stdout",
     "output_type": "stream",
     "text": [
      "+-----+--------+\n",
      "|price|      id|\n",
      "+-----+--------+\n",
      "|  0.0|18612697|\n",
      "|  0.0|20382969|\n",
      "|  0.0|20448073|\n",
      "|  0.0|20671210|\n",
      "|  0.0|21154484|\n",
      "|  0.0|28175257|\n",
      "+-----+--------+\n",
      "\n"
     ]
    }
   ],
   "source": [
    "df_berlin.select('price','id').filter(f.col('price') == 0).show()"
   ]
  },
  {
   "cell_type": "markdown",
   "metadata": {},
   "source": [
    "**One price is 1 dollar. This might also be an error. The second cheapest listing is then $8, which is probably more realistic.**"
   ]
  },
  {
   "cell_type": "code",
   "execution_count": 22,
   "metadata": {},
   "outputs": [
    {
     "name": "stdout",
     "output_type": "stream",
     "text": [
      "+-------------+\n",
      "|minimum_price|\n",
      "+-------------+\n",
      "|          8.0|\n",
      "+-------------+\n",
      "\n"
     ]
    }
   ],
   "source": [
    "df_berlin.filter(f.col('price') > 1.0)\\\n",
    "    .agg(f.min('price').alias('minimum_price'))\\\n",
    "    .show()"
   ]
  },
  {
   "cell_type": "code",
   "execution_count": 23,
   "metadata": {},
   "outputs": [
    {
     "name": "stdout",
     "output_type": "stream",
     "text": [
      "+-------------+\n",
      "|maximum_price|\n",
      "+-------------+\n",
      "|        999.0|\n",
      "+-------------+\n",
      "\n"
     ]
    }
   ],
   "source": [
    "df_berlin.agg(f.max('price').alias('maximum_price')).show()"
   ]
  },
  {
   "cell_type": "markdown",
   "metadata": {},
   "source": [
    "Compute and visualize the distribution of listing prices in your city."
   ]
  },
  {
   "cell_type": "markdown",
   "metadata": {},
   "source": [
    "**I want to take the data into Python in order to make a histogram. The data retrieved with the collect() command will come out as row elemens. They can be converted to a list with a lambda function as showed in the commented code below. It can also be done with a pandas dataframe, which make the code mode nice.**"
   ]
  },
  {
   "cell_type": "code",
   "execution_count": 24,
   "metadata": {},
   "outputs": [],
   "source": [
    "#rows = df_berlin.filter(f.col('price').isNotNull()).select('price').collect()\n",
    "#prices_list = list(map(lambda r: [r['price_flt'], r['frequency']], rows))\n",
    "#berlin_prices = pd.DataFrame(prices_list)"
   ]
  },
  {
   "cell_type": "code",
   "execution_count": 25,
   "metadata": {},
   "outputs": [],
   "source": [
    "berlin_prices = pd.DataFrame(df_berlin.filter(f.col('price').isNotNull()).select('price').collect())"
   ]
  },
  {
   "cell_type": "code",
   "execution_count": 26,
   "metadata": {},
   "outputs": [
    {
     "data": {
      "image/png": "[encoded data removed]",
      "text/plain": [
       "<Figure size 432x288 with 1 Axes>"
      ]
     },
     "metadata": {
      "needs_background": "light"
     },
     "output_type": "display_data"
    }
   ],
   "source": [
    "berlin_prices.hist(bins = int(math.sqrt(len(berlin_prices))))\n",
    "plt.show()"
   ]
  },
  {
   "cell_type": "markdown",
   "metadata": {},
   "source": [
    "The value of a listing is its rating divided by its price.\n",
    "\n",
    "Compute and show a dataframe with the 3 highest valued listings in each neighbourhood."
   ]
  },
  {
   "cell_type": "markdown",
   "metadata": {},
   "source": [
    "**This can be done with a window function. There is a lot of neighbourhoods, so I have chosen just to show a few of them.**"
   ]
  },
  {
   "cell_type": "code",
   "execution_count": 27,
   "metadata": {},
   "outputs": [],
   "source": [
    "berlin_values = df_berlin.filter(f.col('review_scores_rating').isNotNull())\\\n",
    "    .filter(f.col('price').isNotNull())\\\n",
    "    .withColumn('value', f.col('review_scores_rating')/f.col('price'))"
   ]
  },
  {
   "cell_type": "code",
   "execution_count": 28,
   "metadata": {},
   "outputs": [],
   "source": [
    "w = Window.partitionBy('neighbourhood').orderBy(f.asc('value'))"
   ]
  },
  {
   "cell_type": "code",
   "execution_count": 29,
   "metadata": {},
   "outputs": [],
   "source": [
    "berlin_values_ranked = berlin_values.withColumn('value_rank', f.rank().over(w))"
   ]
  },
  {
   "cell_type": "code",
   "execution_count": 30,
   "metadata": {},
   "outputs": [
    {
     "name": "stdout",
     "output_type": "stream",
     "text": [
      "+--------------------+--------+----------+-------------------+\n",
      "|       neighbourhood|      id|value_rank|              value|\n",
      "+--------------------+--------+----------+-------------------+\n",
      "|                null| 7219506|         1| 1.2894736842105263|\n",
      "|           Adlershof|24439697|         1| 0.7194244604316546|\n",
      "|           Adlershof|21353684|         2| 1.3157894736842106|\n",
      "|           Adlershof|37707025|         3| 1.6666666666666667|\n",
      "|Alt-Hohenschönhausen|25170640|         1|0.22248803827751196|\n",
      "|Alt-Hohenschönhausen|38109259|         2|0.36363636363636365|\n",
      "|Alt-Hohenschönhausen|13060403|         3| 0.4092827004219409|\n",
      "|         Alt-Treptow| 7845886|         1|               0.64|\n",
      "|         Alt-Treptow|33657379|         2| 0.6666666666666666|\n",
      "|         Alt-Treptow| 5502882|         2| 0.6666666666666666|\n",
      "|        Altglienicke|23464738|         1| 0.9545454545454546|\n",
      "|        Altglienicke|  354033|         2| 1.2972972972972974|\n",
      "|        Altglienicke|16137777|         3|                1.4|\n",
      "|      Baumschulenweg|35986989|         1|              0.245|\n",
      "|      Baumschulenweg|21495901|         2|                1.0|\n",
      "|      Baumschulenweg|  266086|         3| 1.0823529411764705|\n",
      "|            Biesdorf|11010163|         1| 0.5818181818181818|\n",
      "|            Biesdorf|31251453|         2| 0.6785714285714286|\n",
      "|            Biesdorf| 4056601|         3| 0.8333333333333334|\n",
      "|         Blankenburg|26546193|         1| 1.3857142857142857|\n",
      "+--------------------+--------+----------+-------------------+\n",
      "only showing top 20 rows\n",
      "\n"
     ]
    }
   ],
   "source": [
    "berlin_values_ranked.select('neighbourhood','id','value_rank','value')\\\n",
    "    .filter(f.col('value_rank') <= 3)\\\n",
    "    .orderBy('neighbourhood','value_rank')\\\n",
    "    .show()"
   ]
  },
  {
   "cell_type": "markdown",
   "metadata": {},
   "source": [
    "## Trends\n",
    "Now we want to analyze the \"popularity\" of your city. The data does not contain the number of bookings per listing, but we have a large number of reviews, and we will assume that this is a good indicator of activity on listings."
   ]
  },
  {
   "cell_type": "markdown",
   "metadata": {},
   "source": [
    "Compute and visualize the popularity (i.e., number of reviews) of your city over time."
   ]
  },
  {
   "cell_type": "markdown",
   "metadata": {},
   "source": [
    "**First, I will get an overview of the reviews dataset and prepare it for a join.**"
   ]
  },
  {
   "cell_type": "code",
   "execution_count": 31,
   "metadata": {},
   "outputs": [],
   "source": [
    "rev = spark.read\\\n",
    "    .option('header', True)\\\n",
    "    .option('inferSchema', True)\\\n",
    "    .option('delimiter', ',')\\\n",
    "    .option('multiline', True)\\\n",
    "    .option(\"escape\", \"\\\"\")\\\n",
    "    .csv('data/reviews.csv')"
   ]
  },
  {
   "cell_type": "code",
   "execution_count": 32,
   "metadata": {},
   "outputs": [
    {
     "name": "stdout",
     "output_type": "stream",
     "text": [
      "root\n",
      " |-- listing_id: string (nullable = true)\n",
      " |-- id: string (nullable = true)\n",
      " |-- date: string (nullable = true)\n",
      " |-- reviewer_id: string (nullable = true)\n",
      " |-- reviewer_name: string (nullable = true)\n",
      " |-- comments: string (nullable = true)\n",
      "\n"
     ]
    }
   ],
   "source": [
    "rev.printSchema()"
   ]
  },
  {
   "cell_type": "code",
   "execution_count": 33,
   "metadata": {},
   "outputs": [
    {
     "name": "stdout",
     "output_type": "stream",
     "text": [
      "root\n",
      " |-- city: string (nullable = true)\n",
      " |-- neighbourhood: string (nullable = true)\n",
      " |-- property_type: string (nullable = true)\n",
      " |-- id: integer (nullable = true)\n",
      " |-- price: double (nullable = true)\n",
      " |-- review_scores_rating: double (nullable = true)\n",
      "\n"
     ]
    }
   ],
   "source": [
    "df_berlin.printSchema()"
   ]
  },
  {
   "cell_type": "code",
   "execution_count": 34,
   "metadata": {},
   "outputs": [],
   "source": [
    "rev_prep = rev.withColumn('listing_id_int', f.col('listing_id').cast('int'))\\\n",
    "    .withColumn('review_id', f.col('id').cast('int'))\\\n",
    "    .drop('reviewer_id', 'reviewer_name', 'listing_id', 'id')\\\n",
    "    .withColumn('listing_id', f.col('listing_id_int'))\\\n",
    "    .drop('listing_id_int', 'id_int')"
   ]
  },
  {
   "cell_type": "code",
   "execution_count": 35,
   "metadata": {},
   "outputs": [],
   "source": [
    "berlin_join_rev = rev_prep.join(f.broadcast(df_berlin), (f.col('listing_id') == f.col('id')), 'inner')"
   ]
  },
  {
   "cell_type": "code",
   "execution_count": 36,
   "metadata": {},
   "outputs": [
    {
     "data": {
      "text/plain": [
       "497829"
      ]
     },
     "execution_count": 36,
     "metadata": {},
     "output_type": "execute_result"
    }
   ],
   "source": [
    "berlin_join_rev.count()"
   ]
  },
  {
   "cell_type": "markdown",
   "metadata": {},
   "source": [
    "**Since a join is expensive, I save the joined dataframe.**"
   ]
  },
  {
   "cell_type": "code",
   "execution_count": 37,
   "metadata": {},
   "outputs": [],
   "source": [
    "berlin_join_rev.write.mode('overwrite')\\\n",
    "    .option('header', True)\\\n",
    "    .option('multiline', True)\\\n",
    "    .option(\"escape\", \"\\\"\")\\\n",
    "    .csv('data/Berlin_join_rev.csv', emptyValue='')"
   ]
  },
  {
   "cell_type": "code",
   "execution_count": 38,
   "metadata": {},
   "outputs": [],
   "source": [
    "df_berlin_listings_reviews = spark.read\\\n",
    "    .option('header', True)\\\n",
    "    .option('inferSchema', True)\\\n",
    "    .option('delimiter', ',')\\\n",
    "    .option('multiline', True)\\\n",
    "    .option(\"escape\", \"\\\"\")\\\n",
    "    .csv('data/Berlin_join_rev.csv')"
   ]
  },
  {
   "cell_type": "markdown",
   "metadata": {},
   "source": [
    "**I now calculate the number of reviews on a given day and imort it to a pandas dataframe. I also store it as a Spark dataframe, since I am going to use that later on.**"
   ]
  },
  {
   "cell_type": "code",
   "execution_count": 39,
   "metadata": {},
   "outputs": [],
   "source": [
    "total_revs_df = df_berlin_listings_reviews.orderBy('date')\\\n",
    "    .groupBy('date')\\\n",
    "    .agg(f.count('review_id').alias('total_revs'))\n",
    "\n",
    "total_revs = pd.DataFrame(total_revs_df.collect())"
   ]
  },
  {
   "cell_type": "code",
   "execution_count": 40,
   "metadata": {},
   "outputs": [
    {
     "data": {
      "image/png": "[encoded data removed]",
      "text/plain": [
       "<Figure size 432x288 with 1 Axes>"
      ]
     },
     "metadata": {
      "needs_background": "light"
     },
     "output_type": "display_data"
    }
   ],
   "source": [
    "total_revs.reset_index(inplace=True)\n",
    "total_revs['index'] = pd.to_datetime(total_revs[0])\n",
    "total_revs.set_index('index',inplace=True)\n",
    "\n",
    "total_revs[[1]].plot(kind='line')\n",
    "plt.show()"
   ]
  },
  {
   "cell_type": "markdown",
   "metadata": {},
   "source": [
    "**A rapid increase in 'popularity' (actually number of reviews) is seen. This is most likely NOT showing the popularity of the city, but rather the increase in popularity of Airbnb... One could calculate the total reviews from the whole world and compare Berlin to that in order to get a relative number, which would be a better measure of the city popularity. I think that is out of the scope of this part of the assignment, but I will do that for the individual neighbourhoods as shown below.**"
   ]
  },
  {
   "cell_type": "markdown",
   "metadata": {},
   "source": [
    "Compute and visualize the popularity of neighbourhoods over time. If there are many neighbourhoods in your city, you should select a few interesting ones for comparison."
   ]
  },
  {
   "cell_type": "markdown",
   "metadata": {},
   "source": [
    "**I choose Two large neighbourhoods in the former west (Schöneberg, Wedding) and two large neighbourhoods in the former East (Friedrichshain, Prenzlauer Berg).**"
   ]
  },
  {
   "cell_type": "markdown",
   "metadata": {},
   "source": [
    "**I now prepare four Pandas dataframes, so I can visualize the popularity of the neighbourhoods over time.**"
   ]
  },
  {
   "cell_type": "code",
   "execution_count": 41,
   "metadata": {},
   "outputs": [],
   "source": [
    "schoneberg_revs = pd.DataFrame(df_berlin_listings_reviews.filter(f.col('neighbourhood') == 'Schöneberg').orderBy('date').groupBy('date').agg(f.count('review_id').alias('total_revs')).collect())\n",
    "wedding_revs = pd.DataFrame(df_berlin_listings_reviews.filter(f.col('neighbourhood') == 'Wedding').orderBy('date').groupBy('date').agg(f.count('review_id').alias('total_revs')).collect())\n",
    "friedrichshain_revs = pd.DataFrame(df_berlin_listings_reviews.filter(f.col('neighbourhood') == 'Friedrichshain').orderBy('date').groupBy('date').agg(f.count('review_id').alias('total_revs')).collect())\n",
    "prenzlauerberg_revs = pd.DataFrame(df_berlin_listings_reviews.filter(f.col('neighbourhood') == 'Prenzlauer Berg').orderBy('date').groupBy('date').agg(f.count('review_id').alias('total_revs')).collect())"
   ]
  },
  {
   "cell_type": "code",
   "execution_count": 42,
   "metadata": {},
   "outputs": [
    {
     "data": {
      "image/png": "[encoded data removed]",
      "text/plain": [
       "<Figure size 432x288 with 1 Axes>"
      ]
     },
     "metadata": {
      "needs_background": "light"
     },
     "output_type": "display_data"
    }
   ],
   "source": [
    "schoneberg_revs.reset_index(inplace=True)\n",
    "schoneberg_revs['index'] = pd.to_datetime(schoneberg_revs[0])\n",
    "schoneberg_revs.set_index('index',inplace=True)\n",
    "\n",
    "schoneberg_revs[[1]].plot(kind='line')\n",
    "plt.show()"
   ]
  },
  {
   "cell_type": "markdown",
   "metadata": {},
   "source": [
    "**It is seen that the Schöneberg reviews follow the same trend as the total reviews. I therefore want to compare the 'popularity' of the neighbourhoods with the 'popularity' of the city, so I can get rid of the trend of increasing use of Airbnb.**\n",
    "\n",
    "**I therefore want to join the dataframe with reviews from each of the neighbourhoods with the dataframe with the reviews for the whole city, so that I can compare the neighbourhoods with the city total.**"
   ]
  },
  {
   "cell_type": "markdown",
   "metadata": {},
   "source": [
    "**First, I prepare a dataframe for each neighbourhood for a join.:**"
   ]
  },
  {
   "cell_type": "code",
   "execution_count": 43,
   "metadata": {},
   "outputs": [],
   "source": [
    "schoneberg_revs_df = df_berlin_listings_reviews.filter(f.col('neighbourhood') == 'Schöneberg').withColumn('date_s', f.col('date')).drop('date').orderBy('date_s').groupBy('date_s').agg(f.count('review_id').alias('total_revs_s'))\n",
    "wedding_revs_df = df_berlin_listings_reviews.filter(f.col('neighbourhood') == 'Wedding').withColumn('date_w', f.col('date')).drop('date').orderBy('date_w').groupBy('date_w').agg(f.count('review_id').alias('total_revs_w'))\n",
    "friedrichshain_revs_df = df_berlin_listings_reviews.filter(f.col('neighbourhood') == 'Friedrichshain').withColumn('date_f', f.col('date')).drop('date').orderBy('date_f').groupBy('date_f').agg(f.count('review_id').alias('total_revs_f'))\n",
    "prenzlauerberg_revs_df = df_berlin_listings_reviews.filter(f.col('neighbourhood') == 'Prenzlauer Berg').withColumn('date_p', f.col('date')).drop('date').orderBy('date_p').groupBy('date_p').agg(f.count('review_id').alias('total_revs_p'))"
   ]
  },
  {
   "cell_type": "markdown",
   "metadata": {},
   "source": [
    "**Second, I join each of the dataframes with the dataframe for the whole city and import it to Python by using Pandas:**"
   ]
  },
  {
   "cell_type": "code",
   "execution_count": 44,
   "metadata": {},
   "outputs": [],
   "source": [
    "schoneberg_join = pd.DataFrame(schoneberg_revs_df.join(f.broadcast(total_revs_df), (f.col('date_s') == f.col('date')), 'inner').drop('date').withColumn('index_s', f.col('total_revs_s')/f.col('total_revs')).collect())\n",
    "wedding_join = pd.DataFrame(wedding_revs_df.join(f.broadcast(total_revs_df), (f.col('date_w') == f.col('date')), 'inner').drop('date').withColumn('index_w', f.col('total_revs_w')/f.col('total_revs')).collect())\n",
    "friedrichshain_join = pd.DataFrame(friedrichshain_revs_df.join(f.broadcast(total_revs_df), (f.col('date_f') == f.col('date')), 'inner').drop('date').withColumn('index_f', f.col('total_revs_f')/f.col('total_revs')).collect())\n",
    "prenzlauerberg_join = pd.DataFrame(prenzlauerberg_revs_df.join(f.broadcast(total_revs_df), (f.col('date_p') == f.col('date')), 'inner').drop('date').withColumn('index_p', f.col('total_revs_p')/f.col('total_revs')).collect())"
   ]
  },
  {
   "cell_type": "markdown",
   "metadata": {},
   "source": [
    "**Now I can finally show the number of reviews in the four neighburhoods relative to the number of reviews in the whole city.:**"
   ]
  },
  {
   "cell_type": "code",
   "execution_count": 45,
   "metadata": {},
   "outputs": [
    {
     "data": {
      "image/png": "[encoded data removed]",
      "text/plain": [
       "<Figure size 432x288 with 1 Axes>"
      ]
     },
     "metadata": {
      "needs_background": "light"
     },
     "output_type": "display_data"
    }
   ],
   "source": [
    "schoneberg_join.reset_index(inplace=True)\n",
    "schoneberg_join['index'] = pd.to_datetime(schoneberg_join[0])\n",
    "schoneberg_join.set_index('index',inplace=True)\n",
    "\n",
    "schoneberg_join[[3]].plot(kind='line')\n",
    "plt.show()"
   ]
  },
  {
   "cell_type": "code",
   "execution_count": 46,
   "metadata": {},
   "outputs": [
    {
     "data": {
      "image/png": "[encoded data removed]",
      "text/plain": [
       "<Figure size 432x288 with 1 Axes>"
      ]
     },
     "metadata": {
      "needs_background": "light"
     },
     "output_type": "display_data"
    }
   ],
   "source": [
    "wedding_join.reset_index(inplace=True)\n",
    "wedding_join['index'] = pd.to_datetime(wedding_join[0])\n",
    "wedding_join.set_index('index',inplace=True)\n",
    "\n",
    "wedding_join[[3]].plot(kind='line')\n",
    "plt.show()"
   ]
  },
  {
   "cell_type": "code",
   "execution_count": 47,
   "metadata": {},
   "outputs": [
    {
     "data": {
      "image/png": "[encoded data removed]",
      "text/plain": [
       "<Figure size 432x288 with 1 Axes>"
      ]
     },
     "metadata": {
      "needs_background": "light"
     },
     "output_type": "display_data"
    }
   ],
   "source": [
    "friedrichshain_join.reset_index(inplace=True)\n",
    "friedrichshain_join['index'] = pd.to_datetime(friedrichshain_join[0])\n",
    "friedrichshain_join.set_index('index',inplace=True)\n",
    "\n",
    "friedrichshain_join[[3]].plot(kind='line')\n",
    "plt.show()"
   ]
  },
  {
   "cell_type": "code",
   "execution_count": 48,
   "metadata": {},
   "outputs": [
    {
     "data": {
      "image/png": "[encoded data removed]",
      "text/plain": [
       "<Figure size 432x288 with 1 Axes>"
      ]
     },
     "metadata": {
      "needs_background": "light"
     },
     "output_type": "display_data"
    }
   ],
   "source": [
    "prenzlauerberg_join.reset_index(inplace=True)\n",
    "prenzlauerberg_join['index'] = pd.to_datetime(prenzlauerberg_join[0])\n",
    "prenzlauerberg_join.set_index('index',inplace=True)\n",
    "\n",
    "prenzlauerberg_join[[3]].plot(kind='line')\n",
    "plt.show()"
   ]
  },
  {
   "cell_type": "markdown",
   "metadata": {},
   "source": [
    "**In the beginning of the period, the index oscillates violently and sometimes becomes one for each neighbourhoods. This is because there is very few reviews in the beginning of the period, so sometimes the one review in one of the neighbourhoods is the only review given in the whole city, and therefore the relative number becomes one.**"
   ]
  },
  {
   "cell_type": "markdown",
   "metadata": {},
   "source": [
    "Compute and visualize the popularity of your city by season. For example, visualize the popularity of your city per month."
   ]
  },
  {
   "cell_type": "code",
   "execution_count": 49,
   "metadata": {},
   "outputs": [
    {
     "data": {
      "image/png": "[encoded data removed]",
      "text/plain": [
       "<Figure size 432x288 with 1 Axes>"
      ]
     },
     "metadata": {
      "needs_background": "light"
     },
     "output_type": "display_data"
    }
   ],
   "source": [
    "seasonplot = total_revs[[1]].plot(kind='line')\n",
    "seasonplot.set_xlim(pd.Timestamp('2018-01-01'), pd.Timestamp('2019-01-01'))\n",
    "plt.show()"
   ]
  },
  {
   "cell_type": "markdown",
   "metadata": {},
   "source": [
    "**This shows some rapid oscillations and a peak in the middle of the autumn. This is not nescessarily because there are more activity in the autumn, but might be beacause there is a time gap from when people books a room until they rate it. So maybe the peak activity is actually in the summer, as we would expect.**"
   ]
  },
  {
   "cell_type": "code",
   "execution_count": 50,
   "metadata": {},
   "outputs": [
    {
     "data": {
      "image/png": "[encoded data removed]",
      "text/plain": [
       "<Figure size 432x288 with 1 Axes>"
      ]
     },
     "metadata": {
      "needs_background": "light"
     },
     "output_type": "display_data"
    }
   ],
   "source": [
    "seasonplot = total_revs[[1]].plot(kind='line')\n",
    "seasonplot.set_xlim(pd.Timestamp('2018-06-01'), pd.Timestamp('2018-07-01'))\n",
    "plt.show()"
   ]
  },
  {
   "cell_type": "markdown",
   "metadata": {},
   "source": [
    "**The plot above shows the number of reviews in june 2018. 4-5 peaks are seen, and a close look at the dates reveals that the peaks are indeed on saturdays and sundays. I would expect them to be at fridays and saturdays, because people are more likely to book a room in the weekend. But again, this shows the time of the reviews, rather than the time of the bookings. So the plot actually shows that people write many more (about twice as many) reviews in the weekends, which makes good sense.**"
   ]
  },
  {
   "cell_type": "markdown",
   "metadata": {},
   "source": [
    "## Reviews\n",
    "In this part you should determine which words used in reviews that are the most positive. \n",
    "\n",
    "The individual reviews do not have a rating of the listing, so we will assume that each review gave the average rating to the listing, i.e., the one on the listing.\n",
    "\n",
    "You should assign a positivity weight to each word seen in reviews and list the words with the highest weight. It is up to you to decide what the weight should be. For example, it can be a function of the rating on the listing on which it occurs, the number of reviews it occurs in, and the number of unique listings for which it was used to review.\n",
    "\n",
    "Depending on your choice of weight function, you may also want to do some filtering of words. For example, remove words that only occur in a few reviews."
   ]
  },
  {
   "cell_type": "code",
   "execution_count": 51,
   "metadata": {},
   "outputs": [
    {
     "name": "stdout",
     "output_type": "stream",
     "text": [
      "root\n",
      " |-- date: timestamp (nullable = true)\n",
      " |-- comments: string (nullable = true)\n",
      " |-- review_id: integer (nullable = true)\n",
      " |-- listing_id: integer (nullable = true)\n",
      " |-- city: string (nullable = true)\n",
      " |-- neighbourhood: string (nullable = true)\n",
      " |-- property_type: string (nullable = true)\n",
      " |-- id: integer (nullable = true)\n",
      " |-- price: double (nullable = true)\n",
      " |-- review_scores_rating: double (nullable = true)\n",
      "\n"
     ]
    }
   ],
   "source": [
    "df_berlin_listings_reviews.printSchema()"
   ]
  },
  {
   "cell_type": "code",
   "execution_count": 100,
   "metadata": {},
   "outputs": [],
   "source": [
    "sample = df_berlin_listings_reviews.filter((f.col('listing_id') >= 20000000) & (f.col('listing_id') <= 20010000))\\\n",
    "    .drop('date','review_id','listing_id','city','neighbourhood','property_type','id','price')"
   ]
  },
  {
   "cell_type": "code",
   "execution_count": 101,
   "metadata": {},
   "outputs": [
    {
     "data": {
      "text/plain": [
       "62"
      ]
     },
     "execution_count": 101,
     "metadata": {},
     "output_type": "execute_result"
    }
   ],
   "source": [
    "sample.count()"
   ]
  },
  {
   "cell_type": "code",
   "execution_count": 54,
   "metadata": {},
   "outputs": [],
   "source": [
    "sample_.write.mode('overwrite')\\\n",
    "    .option('header', True)\\\n",
    "    .option('multiline', True)\\\n",
    "    .option(\"escape\", \"\\\"\")\\\n",
    "    .csv('data/sample.csv', emptyValue='')"
   ]
  },
  {
   "cell_type": "code",
   "execution_count": 55,
   "metadata": {},
   "outputs": [],
   "source": [
    "sample = spark.read\\\n",
    "    .option('header', True)\\\n",
    "    .option('inferSchema', True)\\\n",
    "    .option('delimiter', ',')\\\n",
    "    .option('multiline', True)\\\n",
    "    .option(\"escape\", \"\\\"\")\\\n",
    "    .csv('data/sample.csv')"
   ]
  },
  {
   "cell_type": "code",
   "execution_count": 104,
   "metadata": {},
   "outputs": [
    {
     "data": {
      "text/plain": [
       "62"
      ]
     },
     "execution_count": 104,
     "metadata": {},
     "output_type": "execute_result"
    }
   ],
   "source": [
    "sample.count()"
   ]
  },
  {
   "cell_type": "code",
   "execution_count": 57,
   "metadata": {},
   "outputs": [
    {
     "data": {
      "text/plain": [
       "497829"
      ]
     },
     "execution_count": 57,
     "metadata": {},
     "output_type": "execute_result"
    }
   ],
   "source": [
    "df_berlin_listings_reviews.count()"
   ]
  },
  {
   "cell_type": "code",
   "execution_count": 58,
   "metadata": {},
   "outputs": [
    {
     "name": "stdout",
     "output_type": "stream",
     "text": [
      "root\n",
      " |-- comments: string (nullable = true)\n",
      " |-- review_scores_rating: double (nullable = true)\n",
      "\n"
     ]
    }
   ],
   "source": [
    "sample.printSchema()"
   ]
  },
  {
   "cell_type": "markdown",
   "metadata": {},
   "source": [
    "**I want to make a dictionary of the words I see. First I need to remove special characters. The weighting function is merely a shift in the rating, such that ratings below 50% count negative. In that way, some of the neutral words like e.g. \"is\" should in principle be somewhat cancelled out (unless positive reviews for example are much longer than negative). I will not deal with that for now, though.**"
   ]
  },
  {
   "cell_type": "code",
   "execution_count": 67,
   "metadata": {},
   "outputs": [],
   "source": [
    "def positivity(rating,comment):\n",
    "    words = {}\n",
    "    for i in comment.translate(str.maketrans('', '', string.punctuation)).split():\n",
    "        words[i] = round(words.get(i,(rating-50)/100) + (rating-50)/100 ,2)\n",
    "    return words\n",
    "\n",
    "positivity_udf = f.udf(positivity)\n"
   ]
  },
  {
   "cell_type": "code",
   "execution_count": 102,
   "metadata": {},
   "outputs": [],
   "source": [
    "positivity_count_sample = sample.withColumn('positivity_scores', positivity_udf('review_scores_rating','comments'))\\\n",
    "    .select('positivity_scores').collect()"
   ]
  },
  {
   "cell_type": "code",
   "execution_count": 103,
   "metadata": {},
   "outputs": [
    {
     "data": {
      "text/plain": [
       "[Row(positivity_scores='{bed=0.98, A=0.98, very=1.47, a=0.98, big=0.98, Big=0.98, recommend=0.98, is=0.98, experience=0.98, good=0.98, room=0.98, nice=1.47, would=0.98, and=1.47, flat=0.98, host=0.98, helpful=0.98, discreet=0.98, Henry=0.98, Very=0.98}'),\n",
       " Row(positivity_scores='{déco=0.98, quelques=0.98, notre=0.98, facile=0.98, couch=0.98, distinctes=0.98, beautiful=0.98, des=0.98, trip=0.98, Lappartement=0.98, permettait=0.98, les=1.47, because=0.98, you=0.98, dune=1.47, want=0.98, nous=2.45, an=0.98, each=0.98, 1=0.98, 2=0.98, gigantesque=0.98, 3=1.47, at=0.98, 4=1.47, flexible=0.98, offering=0.98, nécessité=0.98, least=0.98, I=0.98, agréable=0.98, recommend=0.98, warmly=0.98, sleep=0.98, The=1.96, min=0.98, Notre=0.98, porte=1.47, kitchen=0.98, so=0.98, But=1.47, a=3.43, ce=1.96, necessary=0.98, rares=0.98, recommande=0.98, one=0.98, makes=0.98, où=0.98, Lemplacement=0.98, stay=1.96, the=2.94, s=0.98, definitely=0.98, croisé=0.98, sympa=1.47, Ring=1.47, closed=0.98, to=1.47, but=0.98, bed=0.98, de=3.92, rooms=0.98, communicate=0.98, had=2.45, vraiment=1.47, huge=1.47, us=0.98, par=0.98, offers=0.98, amateurs=0.98, pas=1.47, last=0.98, en=1.47, trough=0.98, ceux=0.98, et=3.92, pièces=0.98, changed=0.98, voiture=0.98, qui=2.45, kid=0.98, for=1.96, SBahn=0.98, privacy=0.98, deux=0.98, non=0.98, we=1.47, not=1.47, aussi=0.98, Pour=0.98, Henry=1.96, semble=0.98, à=0.98, Henrys=0.98, relax=0.98, communiquant=0.98, pour=1.96, was=1.47, war=0.98, lavons=0.98, une=2.45, bars=0.98, room=0.98, We=1.96, home=0.98, stylish=0.98, with=0.98, what=0.98, coffee=0.98, time=0.98, parking=0.98, pile=0.98, Neukölln=0.98, delivered=0.98, donné=0.98, lappart=0.98, when=0.98, tips=0.98, trouver=0.98, sont=0.98, quartier=1.47, easily=0.98, rend=0.98, if=0.98, He=0.98, vous=0.98, il=0.98, having=0.98, meublé=0.98, in=0.98, is=1.47, it=1.96, dans=1.96, enjoyable=0.98, even=1.47, spot=0.98, séjour=1.47, appart=0.98, our=2.45, équipée=0.98, top=0.98, salle=0.98, flat=1.47, Je=0.98, cooking=0.98, place=2.45, everything=0.98, Enfin=0.98, encore=0.98, more=0.98, could=1.47, cool=0.98, adultes=0.98, great=1.47, nice=0.98, la=1.47, le=2.45, located=0.98, trouvé=0.98, enfant=0.98, door=0.98, fois=0.98, perfect=0.98, baignoire=0.98, est=2.45, bain=0.98, mais=0.98, suffisamment=0.98, avons=0.98, find=0.98, only=0.98, beau=0.98, like=0.98, Berlin=0.98, nétait=0.98, davoir=0.98, plus=1.47, offre=0.98, friends=0.98, donc=0.98, dream=0.98, And=0.98, dispose=0.98, Bahn=0.98, avec=1.47, très=2.45, arrival=0.98, était=0.98, lappartement=0.98, Lappart=0.98, can=1.47, times=0.98, car=0.98, and=3.43, design=0.98, of=0.98, devant=0.98, loin=0.98, chaudement=0.98, toute=0.98, on=0.98, cuisine=0.98, also=1.96, enough=0.98, really=4.41, master=0.98, super=1.47, goût=0.98, chez=0.98, conseils=0.98}'),\n",
       " Row(positivity_scores='{but=1.47, renovated=0.98, very=0.98, nicely=0.98, anyways=0.98, use=0.98, staying=1.47, Its=0.98, had=1.47, clearly=0.98, him=1.47, recommendations=0.98, three=0.98, decorated=0.98, building=0.98, from=0.98, has=0.98, He=0.98, five=0.98, us=0.98, in=2.45, made=0.98, minutes=0.98, old=0.98, felt=0.98, its=0.98, is=0.98, wonderful=0.98, check=0.98, it=0.98, easy=1.47, an=0.98, girlfriends=0.98, eye=0.98, as=0.98, at=0.98, comfortable=0.98, were=0.98, brunch=0.98, metro=0.98, didnt=0.98, Me=0.98, neighborhood=0.98, detail=0.98, much=0.98, city=0.98, drinks=0.98, for=2.94, around=1.47, we=1.96, out=0.98, frankly=0.98, see=0.98, same=0.98, public=0.98, Located=0.98, and=1.96, Thanks=0.98, get=0.98, hospitality=0.98, Ask=0.98, station=0.98, coolest=0.98, just=0.98, Henry=1.96, Communication=0.98, knows=0.98, But=0.98, lovely=0.98, a=1.96, or=0.98, Henrys=0.98, again=0.98, cool=0.98, was=1.47, transport=0.98, great=0.98, really=0.98, stay=0.98, beautifully=0.98, super=1.47, the=4.41, places=0.98, well=0.98, to=1.96, time=1.47, evening=0.98, he=0.98, apartment=1.47}'),\n",
       " Row(positivity_scores='{again=0.98, for=0.98, I=0.98, best=0.98, had=0.98, hope=0.98, We=0.98, the=0.98, ever=0.98, see=0.98, at=0.98, Thank=0.98, to=0.98, place=0.98, time=0.98, everything=0.98, you=1.47, Henry=0.98}'),\n",
       " Row(positivity_scores='{be=0.98, will=0.98, friendly=0.98, host=0.98, og=0.98, back=0.98, we=0.98, apartment=0.98, nice=0.98, Very=0.98}'),\n",
       " Row(positivity_scores='{Unterkunft=0.98, Wir=0.98, sauber=0.98, bei=0.98, Neukölln=0.98, gab=0.98, Und=0.98, ist=1.47, Privatssphäre=0.98, wirklich=0.98, Stadtteile=0.98, vier=0.98, hat=0.98, man=0.98, Nach=0.98, für=1.96, Henry=1.47, Die=0.98, Fazit=0.98, andere=0.98, kann=0.98, Wohnung=0.98, kurze=0.98, sehr=1.96, Einführung=0.98, waren=0.98, freundlichen=0.98, er=0.98, dritt=0.98, absolut=0.98, es=0.98, Tipps=0.98, empfehlenswerte=0.98, Aber=0.98, einem=0.98, auch=1.47, eine=0.98, Empfang=0.98, geben=0.98, genug=0.98, Nächte=0.98, Gast=0.98, uns=0.98, zu=1.47, geräumig=0.98}'),\n",
       " Row(positivity_scores='{hilfsbereiter=0.98, ist=1.47, erzählen=0.98, sich=0.98, Neuköln=0.98, Kiez=0.98, der=0.98, haben=1.47, ganz=0.98, das=0.98, Kerl=0.98, fürs=0.98, Antwort=0.98, Wohnung=1.47, in=0.98, Berlin=0.98, Auch=0.98, folgte=0.98, viel=1.47, innert=0.98, gefühlt=0.98, auf=1.47, Empfang=0.98, auch=0.98, 4=0.98, eingerichtet=0.98, Nächte=0.98, Fall=0.98, Detail=0.98, Wir=1.47, völlig=0.98, ein=0.98, fühlt=0.98, Liebe=0.98, welcher=0.98, insgesammt=0.98, wiederkommen=0.98, ausserordentlich=0.98, selbst=0.98, unkompliziert=0.98, mit=0.98, man=0.98, Henry=0.98, Die=1.47, Henrys=0.98, über=1.47, wodurch=0.98, sehr=1.96, und=2.94, wohl=1.47, stilvoll=0.98, verlief=0.98, konnte=0.98, unsere=0.98, verbracht=0.98, jeden=0.98, Kürze=0.98, Anfrage=0.98, uns=1.47, werden=0.98, lustiger=0.98}'),\n",
       " Row(positivity_scores='{a=0.98, in=0.98, Berlin=0.98, enjoy=0.98, best=0.98, is=0.98, our=0.98, stay=0.98, help=0.98, his=0.98, terrific=0.98, host=0.98, to=0.98, us=0.98, did=0.98, Henry=0.98}'),\n",
       " Row(positivity_scores='{some=0.98, very=1.47, functional=0.98, be=0.98, about=0.98, famile=0.98, back=0.98, It=0.98, our=0.98, tips=0.98, The=0.98, se=0.98, would=0.98, children=0.98, fine=0.98, and=1.47, host=0.98, nabohood=0.98, share=0.98, place=0.98, Henry=0.98, Henrys=0.98, like=0.98, helpfull=0.98, in=1.47, Berlin=0.98, appartement=1.47, was=1.96, clean=0.98, Our=0.98, We=0.98, stay=0.98, the=1.96, with=1.96, what=0.98, even=0.98, time=0.98, to=1.96, cosy=0.98, enjoyed=0.98}'),\n",
       " Row(positivity_scores='{allem=0.98, die=0.98, Wir=0.98, sauber=0.98, alles=0.98, ein=0.98, Tage=0.98, Platz=0.98, haben=0.98, Mitbewohner=0.98, wieder=0.98, empfehlen=0.98, tolle=1.47, für=0.98, Henry=0.98, wir=1.47, Henrys´s=0.98, Wohnung=1.47, in=1.96, Berlin=0.98, hatten=1.47, sehr=0.98, war=1.47, und=1.47, wohl=0.98, hatte=0.98, er=0.98, Tipps=0.98, gefühlt=0.98, Gastgeber=0.98, super=0.98, Gerne=0.98, 4=0.98, genug=0.98, zu=0.98, uns=1.47}'),\n",
       " Row(positivity_scores='{would=0.98, large=0.98, in=0.98, recommend=0.98, location=0.98, Lovely=0.98, great=0.98, apartment=0.98}'),\n",
       " Row(positivity_scores='{very=0.98, and=0.98, was=0.98, helpful=0.98, place=0.98, Henry=0.98, nice=0.98, Very=0.98}'),\n",
       " Row(positivity_scores='{friendly=0.98, this=0.98, was=0.98, recommend=0.98, is=0.98, nice=1.47, stay=0.98, They=0.98, with=0.98, and=0.98, place=0.98, Fully=0.98, He=0.98, Henry=0.98}'),\n",
       " Row(positivity_scores='{but=0.98, yogurt=0.98, Ubahn=0.98, perfect=0.98, almost=0.98, willing=0.98, about=0.98, spacious=0.98, chatty=0.98, run=0.98, main=0.98, used=0.98, him=0.98, when=0.98, nearby=0.98, Turkish=0.98, his=0.98, supplies=0.98, record=0.98, has=0.98, presence=0.98, you=0.98, us=0.98, including=0.98, lives=0.98, in=1.96, Berlin=0.98, might=0.98, want=0.98, is=1.47, morning=0.98, warm=0.98, provide=0.98, And=0.98, restaurants=0.98, breakfast=0.98, airy=0.98, fruit=0.98, for=2.45, It=0.98, we=0.98, out=0.98, The=0.98, into=0.98, flat=0.98, and=3.92, quiet=0.98, place=0.98, everything=0.98, close=0.98, Henry=0.98, player=0.98, a=0.98, Henrys=1.47, was=1.96, store=0.98, many=0.98, great=0.98, room=0.98, bedroom=0.98, We=0.98, bars=0.98, the=2.94, coffee=0.98, grocery=0.98, visited=0.98, sprawled=0.98, information=0.98, location=0.98, to=1.47, he=0.98, did=0.98, unseen=0.98, open=0.98, apartment=0.98}'),\n",
       " Row(positivity_scores='{die=0.98, Wir=1.47, bei=0.98, kommen=0.98, ist=0.98, bis=0.98, von=0.98, top=0.98, geklappt=0.98, wieder=0.98, hat=0.98, Henry=1.47, Buden=0.98, viert=0.98, Wohnung=0.98, Currywurst=0.98, über=0.98, Alles=0.98, und=0.98, waren=0.98, an=0.98, Tipps=0.98, super=1.47, konnte=0.98, auch=0.98, geben=0.98, definitiv=0.98, Gast=0.98, uns=0.98, zu=1.47, Clubs=0.98, Silvester=1.47}'),\n",
       " Row(positivity_scores='{some=0.98, very=0.98, wasn’t=0.98, weeks=0.98, drinks=0.98, for=1.47, I=0.98, It=0.98, around=0.98, when=0.98, tips=0.98, local=0.98, second=0.98, The=0.98, furniture=0.98, and=2.45, Thanks=0.98, neat=0.98, model=0.98, has=0.98, Henry=1.47, always=0.98, a=3.43, or=0.98, in=1.47, like=0.98, regretted=0.98, cool=0.98, is=2.45, Stayed=0.98, store=0.98, it=1.47, clean=0.98, great=1.47, Got=0.98, look=0.98, nice=0.98, room=0.98, really=0.98, super=0.98, 2=0.98, chat=0.98, there=0.98, time=0.98, to=0.98, he=0.98, apartment=0.98}'),\n",
       " Row(positivity_scores='{small=0.98, very=1.47, cozy=0.98, use=0.98, spacious=0.98, whole=0.98, experience=0.98, good=0.98, listen=0.98, amazing=0.98, that=0.98, connects=0.98, music=0.98, speakers=0.98, host=0.98, from=0.98, details=0.98, near=0.98, you=0.98, zen=0.98, myself=0.98, this=0.98, exceptionally=0.98, is=1.96, Truly=0.98, warm=0.98, breakfast=0.98, little=0.98, city=0.98, for=0.98, proper=0.98, I=0.98, vibes=0.98, The=1.47, public=0.98, and=2.45, place=1.47, kitchen=0.98, make=1.96, Henry=0.98, a=0.98, or=0.98, could=0.98, monitor=0.98, transport=0.98, clean=0.98, the=1.96, with=0.98, coffee=0.98, location=0.98, to=1.96}'),\n",
       " Row(positivity_scores='{henrys=0.98, wir=0.98, gastgeber=0.98, stylische=0.98, würden=0.98, in=0.98, hatten=0.98, kommen=0.98, und=1.47, wohnung=1.47, saubere=0.98, zeit=0.98, gegend=0.98, auf=0.98, extrem=0.98, fall=0.98, eine=0.98, schöne=0.98, jeden=0.98, wieder=0.98, wunderbare=0.98, tolle=0.98, netter=0.98}'),\n",
       " Row(positivity_scores='{Gastgeber=0.98, schnelle=0.98, Wohnung=0.98, eingerichtete=0.98, unkomplizierte=0.98, Lage=0.98, ruhige=0.98, und=0.98, Netter=0.98, toll=0.98, Kommunikation=0.98}'),\n",
       " Row(positivity_scores='{but=0.98, notes=0.98, during=0.98, didint=0.98, him=0.98, space=0.98, gooood=0.98, Airy=0.98, his=0.98, host=0.98, us=0.98, everyone=0.98, kind=0.98, this=0.98, is=0.98, bahn=0.98, it=0.98, even=0.98, left=0.98, much=0.98, who=0.98, love=0.98, for=0.98, I=1.47, recommend=0.98, our=0.98, long=0.98, S=0.98, too=0.98, and=1.96, of=0.98, so=0.98, berlin=0.98, 2mins=0.98, bahnU=0.98, Henrys=0.98, will=0.98, clean=0.98, definately=0.98, We=0.98, way=0.98, stay=1.47, travels=0.98, the=0.98, meet=0.98, short=0.98, to=1.96, tidy=0.98, he=0.98, walk=0.98, apartment=1.96}'),\n",
       " Row(positivity_scores='{Wohnung=0.98, war=0.98, toller=0.98, einfach=0.98, perfekt=0.98, Es=0.98, vielen=0.98, Gastgeber=0.98, Super=0.98, Balkon=0.98, schöne=0.98, mit=0.98, Dank=0.98, rundum=0.98}'),\n",
       " Row(positivity_scores='{but=0.98, very=0.98, friendly=0.98, sometimes=0.98, accommodative=0.98, feel=0.98, had=1.47, clearly=0.98, him=0.98, when=0.98, professional=0.98, beautiful=0.98, his=0.98, four=0.98, details=0.98, He=0.98, welcome=0.98, all=0.98, lives=0.98, in=1.47, being=0.98, an=0.98, look=0.98, persons=0.98, requested=0.98, warm=1.47, at=1.47, chats=0.98, overall=0.98, hardly=0.98, here=0.98, some=0.98, week=0.98, keys=0.98, for=1.47, recommend=0.98, Would=0.98, we=1.96, example=0.98, general=0.98, can=0.98, see=0.98, and=2.94, extra=0.98, of=1.47, place=0.98, Henry=0.98, a=1.96, set=0.98, Henrys=0.98, noticed=0.98, was=1.47, designer=0.98, clean=0.98, nice=1.47, We=1.47, stay=0.98, home=0.98, lots=0.98, with=0.98, definitely=0.98, stayed=0.98, there=1.47, to=0.98, You=0.98, apartment=0.98}'),\n",
       " Row(positivity_scores='{flight=0.98, Guide=0.98, Berin=0.98, reach=0.98, Supermarket=0.98, save=0.98, It=0.98, Clean=0.98, how=0.98, and=1.47, by=1.47, get=0.98, Kind=0.98, me=1.47, helped=0.98, Henry=0.98, convenitent=0.98, Messe=0.98, Sbahn=0.98, change=0.98, is=0.98, telephone=0.98, it=0.98, bahn=0.98, my=1.47, Rooms=0.98, Recommend=0.98, And=0.98, restaurants=0.98, time=0.98, to=2.45}'),\n",
       " Row(positivity_scores='{rooms=0.98, airy=0.98, Spacious=0.98, pleasant=0.98, clean=0.98, tips=0.98, interior=0.98, and=1.96, wonderfully=0.98, from=0.98, helpful=0.98, tidy=0.98, Henry=0.98}'),\n",
       " Row(positivity_scores='{very=1.96, big=0.98, rooms=0.98, had=0.98, recommendations=0.98, good=0.98, that=0.98, Henry’s=0.98, us=1.47, surrounding=0.98, in=0.98, made=0.98, plenty=0.98, my=0.98, easy=0.98, friends=0.98, at=0.98, were=0.98, gave=0.98, Bahn=0.98, neighborhood=0.98, city=0.98, for=0.98, I=0.98, two=0.98, The=1.47, into=0.98, U=0.98, and=1.47, of=0.98, station=0.98, close=0.98, Henry=0.98, a=1.47, was=0.98, transport=0.98, enough=0.98, clean=0.98, great=0.98, We=0.98, the=1.47, stylish=0.98, with=0.98, stayed=0.98, located=0.98, time=0.98, to=0.98, apartment=0.98}'),\n",
       " Row(positivity_scores='{All=0.98, some=0.98, chill=0.98, for=0.98, about=0.98, I=0.98, reaching=0.98, recommend=0.98, explained=0.98, handy=0.98, good=0.98, tips=0.98, offered=0.98, and=2.45, came=0.98, host=0.98, neat=0.98, where=0.98, everything=0.98, He=1.47, you=0.98, us=0.98, Henry=0.98, Communication=0.98, all=0.98, which=0.98, sightseeing=0.98, a=1.47, need=0.98, in=1.47, Berlin=0.98, was=1.96, is=1.47, it=0.98, the=0.98, what=1.47, fast=0.98, definitely=0.98, person=0.98, tidy=0.98, apartment=0.98}'),\n",
       " Row(positivity_scores='{a=0.98, Clean=0.98, nice=0.98, the=0.98, stylish=0.98, with=0.98, subway=0.98, and=1.47, host=0.98, station=0.98, to=0.98, communication=0.98, cosy=0.98, Fast=0.98, close=0.98, Very=0.98}'),\n",
       " Row(positivity_scores='{a=0.98, pohodový=0.98, Čistota=0.98, hostitel=0.98, funkční=0.98, ještě=0.98, než=0.98, lépe=0.98, i=0.98, doporučit=0.98, Můžu=0.98, jen=0.98, na=0.98, stylové=0.98, Všechno=0.98, vybavení=0.98, vypadalo=0.98, fotkách=0.98}'),\n",
       " Row(positivity_scores='{die=0.98, Anbindung=0.98, ist=0.98, der=0.98, total=0.98, top=0.98, haben=0.98, Lage=0.98, unkompliziert=0.98, hat=0.98, tip=0.98, man=0.98, Die=0.98, wir=0.98, Wohnung=0.98, in=0.98, sehr=0.98, Alles=0.98, wohl=0.98, an=0.98, super=0.98, gefühlt=0.98, eine=0.98, auch=0.98, Bahn=0.98, uns=0.98}'),\n",
       " Row(positivity_scores='{very=0.98, accommodating=0.98, happy=0.98, impressed=0.98, taste=0.98, recommend=0.98, space=0.98, beautiful=0.98, his=0.98, and=1.96, host=0.98, understanding=0.98, Lovely=0.98, Henry=0.98, highly=0.98, all=0.98, a=1.47, kind=0.98, this=0.98, was=1.96, We=0.98, stay=0.98, I’d=0.98, most=0.98, the=0.98, such=0.98, with=1.96, at=0.98, chat=0.98, were=0.98, BNB=0.98, to=1.47, apartment=0.98, impeccable=0.98}'),\n",
       " Row(positivity_scores='{Ubahn=0.98, for=0.98, spacious=0.98, had=0.98, immediately=0.98, good=0.98, The=1.47, min=0.98, and=0.98, of=0.98, from=0.98, communication=0.98, He=0.98, Henry=0.98, responded=0.98, app=0.98, a=0.98, appartment=0.98, went=0.98, Henrys=0.98, is=1.47, clean=0.98, nice=0.98, We=0.98, stay=0.98, Perfect=0.98, the=1.47, with=0.98, persons=0.98, 2=0.98, 4=0.98, well=0.98, location=0.98, walk=0.98}'),\n",
       " Row(positivity_scores='{agréable=0.98, good=0.98, sur=0.98, Nice=0.98, un=0.98, Accueil=0.98, welcome=0.98, bien=0.98, discover=0.98, a=0.98, in=0.98, Berlin=0.98, appartement=0.98, interesting=0.98, pour=0.98, advices=0.98, dans=0.98, nice=0.98, transports=0.98, places=0.98, situé=0.98, sympa=0.98, located=0.98, well=0.98, to=0.98, conseils=0.98, apartment=0.98}'),\n",
       " Row(positivity_scores='{appropriate=0.98, A=0.98, very=1.47, big=0.98, rooms=0.98, advice=0.98, Right=0.98, range=0.98, cleanse=0.98, giving=0.98, good=2.45, cafes=0.98, and=1.47, of=2.45, host=0.98, Highly=0.98, supermarkets=0.98, Lovely=0.98, close=1.47, Henry=0.98, on=1.47, a=1.47, Really=0.98, SU=0.98, thoughtful=0.98, was=0.98, rests=0.98, Amazingly=0.98, Berlin’s=0.98, really=0.98, bars=0.98, recommended=0.98, the=0.98, stylish=0.98, lots=1.47, touches=0.98, with=0.98, places=0.98, as=0.98, well=0.98, Bahn=0.98, location=0.98, apartment=0.98}'),\n",
       " Row(positivity_scores='{öV=0.98, Unterkunft=0.98, Anbindung=0.98, und=0.98, den=0.98, saubere=0.98, unkomplizierter=0.98, an=0.98, stylischer=0.98, Gastgeber=0.98, guter=0.98, mit=0.98, Sehr=0.98, netter=0.98}'),\n",
       " Row(positivity_scores='{before=0.98, about=0.98, had=0.98, beautiful=0.98, This=0.98, quite=0.98, details=0.98, Chile=0.98, plenty=0.98, is=1.96, comfortable=0.98, Always=0.98, some=0.98, city=0.98, we=1.47, The=0.98, arrived=0.98, and=1.96, talks=0.98, of=0.98, share=0.98, place=0.98, so=0.98, Henry=0.98, highly=0.98, neighorhood=0.98, a=1.47, interesting=0.98, one=0.98, clear=0.98, Henry´s=0.98, many=0.98, clean=0.98, We=0.98, nice=0.98, room=0.98, really=0.98, recommended=0.98, the=1.47, stylish=0.98, with=0.98, places=0.98, Laura=0.98, fast=0.98, answer=0.98, visit=0.98, to=0.98, apartment=1.47}'),\n",
       " Row(positivity_scores='{very=0.98, had=0.98, It=0.98, around=0.98, situated=0.98, The=0.98, can=0.98, cafés=0.98, find=0.98, and=1.47, have=0.98, metrotrain=0.98, place=0.98, kitchen=0.98, possibility=0.98, you=1.47, a=0.98, large=0.98, Henrys=0.98, in=0.98, cook=0.98, is=1.96, clean=0.98, room=0.98, nice=1.47, We=0.98, stay=0.98, the=1.47, at=0.98, pharmacy=0.98, well=0.98, to=0.98, apartment=0.98}'),\n",
       " Row(positivity_scores='{nicely=0.98, week=0.98, perfect=0.98, about=0.98, for=1.47, privacy=0.98, during=0.98, anywhere=0.98, our=1.47, tips=0.98, decorated=0.98, getting=0.98, The=1.47, and=1.47, helpful=0.98, pictured=0.98, just=0.98, Henry=0.98, area=1.47, going=0.98, in=1.47, Berlin=0.98, was=1.96, transport=0.98, clean=0.98, easy=0.98, stay=0.98, the=1.47, as=1.47, respected=0.98, apartment=0.98}'),\n",
       " Row(positivity_scores='{very=1.47, city=0.98, for=0.98, Neukölln=0.98, I=0.98, recommend=0.98, The=0.98, beautiful=0.98, trip=0.98, and=1.47, This=0.98, popular=0.98, Henry=0.98, a=0.98, sure=0.98, in=0.98, appartement=0.98, was=0.98, is=1.47, it=0.98, super=1.47, reactive=0.98, sympa=0.98, district=0.98, located=0.98, well=0.98}'),\n",
       " Row(positivity_scores='{young=0.98, for=0.98, welllit=0.98, immaculately=0.98, two=0.98, house=0.98, local=0.98, The=0.98, can=0.98, recs=0.98, and=1.47, of=0.98, get=1.47, quite=1.47, from=0.98, has=0.98, if=0.98, He=0.98, Stay=0.98, you=1.47, Henry=1.47, over=0.98, all=0.98, which=0.98, lovely=0.98, a=1.47, chance=0.98, BerlinNeukolln=0.98, Berlin=0.98, blocks=0.98, was=0.98, groups=0.98, is=0.98, clean=0.98, travelers=0.98, nice=0.98, home=0.98, Great=0.98, the=1.47, stylish=0.98, with=0.98, warm=0.98, stop=0.98, efficiently=0.98, mere=0.98, gave=0.98}'),\n",
       " Row(positivity_scores='{very=0.98, spacious=0.98, recommend=0.98, had=0.98, situated=0.98, The=1.47, furnished=0.98, would=0.98, and=1.96, place=0.98, which=0.98, a=1.47, Henrys=0.98, in=0.98, was=0.98, is=1.47, it=0.98, clean=0.98, room=0.98, really=1.47, nice=1.47, We=0.98, stay=0.98, super=0.98, the=0.98, at=0.98, comfortable=0.98, typical=0.98, beds=0.98, Altbau=0.98, apartment=0.98}'),\n",
       " Row(positivity_scores='{die=1.47, Wir=0.98, langen=0.98, ansonsten=0.98, Ambiente=0.98, Energie=0.98, perfekt=0.98, unterkommen=0.98, klaren=0.98, Er=0.98, unterwegs=0.98, der=1.47, haben=1.47, wieder=1.47, genommen=0.98, hat=0.98, sammeln=0.98, Nach=0.98, kaum=0.98, Zeit=1.47, für=0.98, genossen=0.98, gesehen=0.98, wir=1.47, freundlich=0.98, dort=0.98, im=0.98, Henrys=0.98, Wohnung=0.98, in=1.47, war=0.98, und=0.98, waren=0.98, würde=0.98, Ich=0.98, einem=0.98, meiste=0.98, Empfang=0.98, jederzeit=0.98, zu=0.98, Tag=0.98, uns=1.47, durchdachten=0.98, Wohung=0.98, da=0.98}'),\n",
       " Row(positivity_scores='{bus=1.0, couple=1.0, cozy=1.0, several=1.0, feel=1.5, nearby=1.0, space=1.0, She=1.0, that=1.0, her=1.0, would=1.0, corner=1.0, furniture=1.0, host=1.0, totally=1.0, welcome=1.0, if=1.0, you=2.0, which=1.0, all=1.0, always=1.0, need=1.0, in=2.0, like=1.0, touch=1.0, its=1.0, wonderful=1.0, is=2.0, an=1.0, something=1.0, quality=1.0, Perfect=1.0, person=1.0, comfortable=1.0, UBahn=1.0, stops=1.0, helps=1.0, Ann=1.0, A=1.0, amenities=1.0, Shes=1.0, for=1.0, I=1.0, recommend=1.0, immediately=1.0, The=1.0, flat=1.0, and=2.5, of=1.0, station=1.0, where=1.0, place=1.5, so=1.5, just=1.0, included=1.0, a=1.0, incredible=1.0, really=1.5, home=1.0, the=2.5, Great=1.0, stylish=1.0, super=1.0, extraordinary=1.0, shes=1.0}'),\n",
       " Row(positivity_scores='{Great=1.0, go=1.0, Long=1.0, back=1.0, to=1.0, place=1.0}'),\n",
       " Row(positivity_scores='{Ann=1.5, Stil=1.0, alles=1.0, Qualität=1.0, ist=1.5, Vielen=1.0, Ausstattung=1.0, Besser=1.0, Grüße=1.0, Lage=1.0, geht=1.0, für=1.0, herausragend=1.0, Die=1.0, Wohnung=1.0, in=1.5, sehr=1.0, und=1.5, nicht=1.0, es=1.0, Hinsicht=1.0, jeder=1.0, hilfsbereit=1.0, Jan=1.0, Dank=1.0, zuverlässig=1.0}'),\n",
       " Row(positivity_scores='{wait=1.0, perfect=1.0, was=1.0, come=1.0, my=1.0, can’t=1.0, stay=1.0, Ann’s=1.0, Loved=1.0, Everything=1.0, at=1.0, back❤️=1.0, to=1.0, place=1.0}'),\n",
       " Row(positivity_scores='{perfect=1.0, for=1.0, Go=1.0, about=1.0, I=1.0, It=1.0, The=1.0, amazing=1.0, 5mn=1.0, and=1.5, by=1.0, have=1.0, kitchen=1.0, totally=1.0, just=1.0, foot=1.0, you=1.0, appartement=1.0, was=1.0, is=1.5, it=1.5, the=1.5, tube=1.0, recomand=1.0, juste=1.0, equipted=1.0, well=1.0, So=1.0}'),\n",
       " Row(positivity_scores='{bed=1.0, weeks=1.0, for=1.0, I=1.5, It=1.0, penthouse=1.0, view=1.0, loved=1.0, furnished=1.0, and=1.5, flat=1.0, quiet=1.0, place=1.0, every=1.0, a=1.5, six=1.0, in=1.0, work=1.0, Berlin=1.0, spent=1.0, wonderful=1.5, is=1.0, feeling=1.0, great=1.0, minute=1.0, contemplation=1.0, beautifully=1.0, stay=1.0, Ann’s=1.0, such=1.0, at=1.0, to=1.0}'),\n",
       " Row(positivity_scores='{here=1.0, Absolutely=1.0, Don’t=1.0, fantastic=1.0, to=1.0, hesitate=1.0, stay=1.0}'),\n",
       " Row(positivity_scores='{Stil=1.0, Wohnung=1.0, war=1.0, Jederzeit=1.0, und=1.5, Geschmack=1.0, habe=1.0, viel=1.0, Ich=1.0, gefühlt=1.0, Der=1.0, großartig=1.0, wie=1.0, mich=1.0, wirklich=1.0, zuhause=1.0, eingerichtet=1.0, Aufenthalt=1.0, wieder=1.0, mit=1.0, Wunderschöne=1.0, so=1.0}'),\n",
       " Row(positivity_scores='{Berlino=1.0, Ann=1.0, lavatrice=1.0, molta=1.0, valore=1.0, di=1.5, vicini=1.0, curato=1.0, appartamento=1.0, alla=1.0, rispettosi=1.0, elegante=1.0, dal=1.0, inverno=1.0, elettronici=1.0, Tranquillissimo=1.0, Lucia=1.0, bello=1.0, anche=1.0, luce=1.0, un=1.5, forno=1.0, a=1.0, che=1.0, Connessione=1.0, Con=1.0, prima=1.0, elettrici=1.0, in=1.0, e=3.0, raccomandabile=1.0, Diego=1.0, Altamente=1.0, é=1.0, ottima=1.0, accessori=1.0, propone=1.0, molto=1.5, alta=1.0, qualità=1.5, Tutto=1.0, internet=1.0}'),\n",
       " Row(positivity_scores='{sunbathing=1.0, quick=1.0, perfectly=1.0, perfect=1.0, for=1.5, I=1.0, had=1.0, bit=1.0, balcony=1.0, Anns=1.0, long=1.0, interior=1.0, beautiful=1.0, flat=1.0, and=2.0, design=1.0, term=1.0, has=1.0, place=1.0, everything=1.5, you=1.0, Communication=1.0, a=3.0, or=1.0, went=1.0, need=1.0, could=1.0, more=1.0, spent=1.0, was=1.0, then=1.0, great=1.0, easy=1.0, stay=1.0, the=1.0, at=1.0, month=1.0, short=1.0}'),\n",
       " Row(positivity_scores='{very=0.9, feel=0.6, hip=0.6, The=0.6, low=0.6, and=0.6, of=0.6, different=0.6, welcome=0.6, you=0.6, affordable=0.6, cost=0.6, kind=0.6, pleasant=0.6, Especially=0.6, was=0.6, makes=0.6, is=0.6, room=0.6, really=0.6, the=0.6, with=0.6, restaurants=0.6, neighborhood=0.6, Jenny=0.6, little=0.6}'),\n",
       " Row(positivity_scores='{very=1.2, oasis=0.8, hip=0.8, out=0.8, newly=0.8, The=0.8, loved=0.8, refurbished=0.8, and=2.4, cafes=0.8, of=0.8, place=0.8, kids=0.8, blinds=0.8, a=1.6, Wenkes=0.8, Wenke=0.8, in=1.2, Berlin=0.8, black=0.8, is=1.6, Our=0.8, great=0.8, discrete=0.8, the=1.2, lots=0.8, warm=0.8, were=0.8, person=0.8, fantastic=0.8, restaurants=0.8, located=0.8, playgrounds=0.8, neighborhood=0.8, beds=0.8, apartment=0.8, bunk=0.8}'),\n",
       " Row(positivity_scores='{but=1.2, very=0.8, streets=0.8, about=0.8, your=0.8, three=0.8, that=1.6, Kreutzberg=0.8, high=0.8, children=0.8, middleaged=0.8, few=0.8, has=0.8, Best=0.8, you=1.2, all=0.8, large=0.8, need=0.8, in=2.0, Berlin=0.8, is=2.8, it=1.2, look=0.8, water=0.8, August=0.8, important=0.8, take=0.8, at=1.6, terrific=0.8, And=0.8, were=0.8, district=0.8, shops=0.8, restaurants=0.8, must=0.8, detail=0.8, beds=1.2, halls=0.8, party=0.8, next=0.8, other=0.8, access=0.8, be=1.2, young=0.8, city=0.8, comes=0.8, for=1.6, It=0.8, An=0.8, house=1.2, two=1.2, disposal=0.8, The=1.2, patio=0.8, not=0.8, are=0.8, and=1.2, cafes=0.8, street=0.8, Located=0.8, spend=0.8, of=2.0, have=1.2, older=0.8, end=0.8, place=0.8, quiet=0.8, canal=0.8, floor=0.8, said=0.8, everything=0.8, designed=0.8, staircase=0.8, But=0.8, a=3.6, or=0.8, Wenke=0.8, one=0.8, right=0.8, neighbor=0.8, people=1.6, We=0.8, recommended=0.8, Great=0.8, the=3.6, with=0.8, days=0.8, location=0.8, to=2.0, bunk=0.8, apartment=1.2}'),\n",
       " Row(positivity_scores='{direkt=0.86, Supertolle=0.86, daneben=0.86, Wohnung=0.86, Perfekt=0.86, Tempelhofer=0.86, und=0.86, Ein=0.86, BerlinZuhause=0.86, gutes=0.86, Feld=0.86, Lage=0.86, gemütliche=0.86}'),\n",
       " Row(positivity_scores='{arrival=0.86, before=0.86, 38=0.86, this=0.86, is=0.86, posting=0.86, an=0.86, The=0.86, canceled=0.86, automated=0.86, host=0.86, This=0.86, days=0.86, reservation=0.86}'),\n",
       " Row(positivity_scores='{cozy=0.86, had=0.86, The=0.86, and=0.86, by=0.86, near=0.86, has=0.86, park=0.86, a=1.29, appartment=0.86, in=1.29, was=0.86, wonderful=0.86, it=0.86, great=0.86, We=0.86, airport=0.86, stay=0.86, the=1.29, take=0.86, places=0.86, brunch=0.86, to=0.86, neighborhood=0.86, walk=0.86, fun=0.86}'),\n",
       " Row(positivity_scores='{arrival=0.86, before=0.86, this=0.86, is=0.86, posting=0.86, an=0.86, The=0.86, canceled=0.86, automated=0.86, host=0.86, This=0.86, days=0.86, reservation=0.86, 21=0.86}'),\n",
       " Row(positivity_scores='{shower=0.86, a=0.86, oven=0.86, in=0.86, cover=0.86, Dont=0.86, and=0.86, have=0.86, accommodation=0.86, Good=0.86, bathroom=0.86, microwave=0.86}'),\n",
       " Row(positivity_scores='{spacious=0.86, for=0.86, I=0.86, recommend=0.86, guy=0.86, top=0.86, and=1.29, eat=0.86, value=0.86, connections=0.86, highly=0.86, a=1.72, within=0.86, excellent=0.86, relax=0.86, also=0.86, is=0.86, many=0.86, drink=0.86, bedroom=0.86, minute=0.86, super=0.86, Great=0.86, with=0.86, 1=0.86, places=0.86, 5=0.86, And=0.86, Amazing=0.86, location=0.86, to=0.86, Florian=0.86, walk=0.86, apartment=0.86}'),\n",
       " Row(positivity_scores='{a=0.86, in=0.86, Berlin=0.86, allowed=0.86, was=0.86, him=0.86, great=0.86, flourish=0.86, thank=0.86, to=1.29, Florian=0.86, you=0.86, us=0.86, who=0.86}'),\n",
       " Row(positivity_scores='{recommend=0.86, had=0.86, Would=0.86, good=0.86, space=0.86, contactable=0.86, The=0.86, and=1.72, easily=0.86, few=0.86, helpful=0.86, value=0.86, hiccups=0.86, a=1.29, was=1.29, wonderful=0.86, great=0.86, despite=0.86, Florian’s=0.86, We=0.86, at=0.86, time=0.86, Florian=0.86, apartment=0.86}')]"
      ]
     },
     "execution_count": 103,
     "metadata": {},
     "output_type": "execute_result"
    }
   ],
   "source": [
    "positivity_count_sample"
   ]
  },
  {
   "cell_type": "markdown",
   "metadata": {},
   "source": [
    "**The output is a long string with words and positivity scores. I have not yet figured out how to concatenate all the rows in pyspark or to put them into a separate dataframe, so that the positivity scores could be summed using groupBy or countDistinct**\n",
    "\n",
    "**In Python, however, it would not be difficult to transform the above into a dataframe, but I think that the problem should be solved within Spark.**\n",
    "\n",
    "**Another problem is that the method above only works for a very small sample.**\n",
    "\n",
    "**As sad as it can be, I have not had the time to make this work.**"
   ]
  },
  {
   "cell_type": "code",
   "execution_count": null,
   "metadata": {},
   "outputs": [],
   "source": []
  },
  {
   "cell_type": "code",
   "execution_count": null,
   "metadata": {},
   "outputs": [],
   "source": []
  },
  {
   "cell_type": "code",
   "execution_count": 62,
   "metadata": {},
   "outputs": [],
   "source": [
    "#test = list(map(lambda r: r['positivity_scores'], testefest))"
   ]
  }
 ],
 "metadata": {
  "kernelspec": {
   "display_name": "Python 3",
   "language": "python",
   "name": "python3"
  },
  "language_info": {
   "codemirror_mode": {
    "name": "ipython",
    "version": 3
   },
   "file_extension": ".py",
   "mimetype": "text/x-python",
   "name": "python",
   "nbconvert_exporter": "python",
   "pygments_lexer": "ipython3",
   "version": "3.7.3"
  }
 },
 "nbformat": 4,
 "nbformat_minor": 2
}
